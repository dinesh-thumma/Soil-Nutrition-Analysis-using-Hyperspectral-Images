{
 "cells": [
  {
   "cell_type": "code",
   "execution_count": 3,
   "metadata": {
    "_cell_guid": "b1076dfc-b9ad-4769-8c92-a6c4dae69d19",
    "_uuid": "8f2839f25d086af736a60e9eeb907d3b93b6e0e5",
    "execution": {
     "iopub.execute_input": "2024-03-25T19:41:11.258381Z",
     "iopub.status.busy": "2024-03-25T19:41:11.257324Z",
     "iopub.status.idle": "2024-03-25T19:41:42.746500Z",
     "shell.execute_reply": "2024-03-25T19:41:42.745336Z",
     "shell.execute_reply.started": "2024-03-25T19:41:11.258339Z"
    }
   },
   "outputs": [
    {
     "name": "stdout",
     "output_type": "stream",
     "text": [
      "Requirement already satisfied: seaborn in /opt/conda/lib/python3.10/site-packages (0.12.2)\n",
      "Requirement already satisfied: numpy!=1.24.0,>=1.17 in /opt/conda/lib/python3.10/site-packages (from seaborn) (1.26.4)\n",
      "Requirement already satisfied: pandas>=0.25 in /opt/conda/lib/python3.10/site-packages (from seaborn) (2.1.4)\n",
      "Requirement already satisfied: matplotlib!=3.6.1,>=3.1 in /opt/conda/lib/python3.10/site-packages (from seaborn) (3.7.5)\n",
      "Requirement already satisfied: contourpy>=1.0.1 in /opt/conda/lib/python3.10/site-packages (from matplotlib!=3.6.1,>=3.1->seaborn) (1.2.0)\n",
      "Requirement already satisfied: cycler>=0.10 in /opt/conda/lib/python3.10/site-packages (from matplotlib!=3.6.1,>=3.1->seaborn) (0.12.1)\n",
      "Requirement already satisfied: fonttools>=4.22.0 in /opt/conda/lib/python3.10/site-packages (from matplotlib!=3.6.1,>=3.1->seaborn) (4.47.0)\n",
      "Requirement already satisfied: kiwisolver>=1.0.1 in /opt/conda/lib/python3.10/site-packages (from matplotlib!=3.6.1,>=3.1->seaborn) (1.4.5)\n",
      "Requirement already satisfied: packaging>=20.0 in /opt/conda/lib/python3.10/site-packages (from matplotlib!=3.6.1,>=3.1->seaborn) (21.3)\n",
      "Requirement already satisfied: pillow>=6.2.0 in /opt/conda/lib/python3.10/site-packages (from matplotlib!=3.6.1,>=3.1->seaborn) (9.5.0)\n",
      "Requirement already satisfied: pyparsing>=2.3.1 in /opt/conda/lib/python3.10/site-packages (from matplotlib!=3.6.1,>=3.1->seaborn) (3.1.1)\n",
      "Requirement already satisfied: python-dateutil>=2.7 in /opt/conda/lib/python3.10/site-packages (from matplotlib!=3.6.1,>=3.1->seaborn) (2.8.2)\n",
      "Requirement already satisfied: pytz>=2020.1 in /opt/conda/lib/python3.10/site-packages (from pandas>=0.25->seaborn) (2023.3.post1)\n",
      "Requirement already satisfied: tzdata>=2022.1 in /opt/conda/lib/python3.10/site-packages (from pandas>=0.25->seaborn) (2023.4)\n",
      "Requirement already satisfied: six>=1.5 in /opt/conda/lib/python3.10/site-packages (from python-dateutil>=2.7->matplotlib!=3.6.1,>=3.1->seaborn) (1.16.0)\n",
      "Requirement already satisfied: pandas in /opt/conda/lib/python3.10/site-packages (2.1.4)\n",
      "Requirement already satisfied: numpy<2,>=1.22.4 in /opt/conda/lib/python3.10/site-packages (from pandas) (1.26.4)\n",
      "Requirement already satisfied: python-dateutil>=2.8.2 in /opt/conda/lib/python3.10/site-packages (from pandas) (2.8.2)\n",
      "Requirement already satisfied: pytz>=2020.1 in /opt/conda/lib/python3.10/site-packages (from pandas) (2023.3.post1)\n",
      "Requirement already satisfied: tzdata>=2022.1 in /opt/conda/lib/python3.10/site-packages (from pandas) (2023.4)\n",
      "Requirement already satisfied: six>=1.5 in /opt/conda/lib/python3.10/site-packages (from python-dateutil>=2.8.2->pandas) (1.16.0)\n"
     ]
    }
   ],
   "source": [
    "!pip install seaborn\n",
    "!pip install pandas"
   ]
  },
  {
   "cell_type": "code",
   "execution_count": null,
   "metadata": {
    "execution": {
     "iopub.execute_input": "2024-03-20T05:59:23.449938Z",
     "iopub.status.busy": "2024-03-20T05:59:23.449422Z",
     "iopub.status.idle": "2024-03-20T05:59:27.315645Z",
     "shell.execute_reply": "2024-03-20T05:59:27.314290Z",
     "shell.execute_reply.started": "2024-03-20T05:59:23.449874Z"
    }
   },
   "outputs": [],
   "source": [
    "!pip uninstall -y opencv-python-headless"
   ]
  },
  {
   "cell_type": "code",
   "execution_count": null,
   "metadata": {
    "execution": {
     "iopub.execute_input": "2024-03-20T05:59:27.318875Z",
     "iopub.status.busy": "2024-03-20T05:59:27.318318Z",
     "iopub.status.idle": "2024-03-20T05:59:50.240485Z",
     "shell.execute_reply": "2024-03-20T05:59:50.238672Z",
     "shell.execute_reply.started": "2024-03-20T05:59:27.318811Z"
    }
   },
   "outputs": [],
   "source": [
    "!pip uninstall -y opencv-python\n",
    "!pip install opencv-python"
   ]
  },
  {
   "cell_type": "code",
   "execution_count": 4,
   "metadata": {
    "execution": {
     "iopub.execute_input": "2024-03-25T19:41:42.749018Z",
     "iopub.status.busy": "2024-03-25T19:41:42.748652Z",
     "iopub.status.idle": "2024-03-25T19:42:01.630998Z",
     "shell.execute_reply": "2024-03-25T19:42:01.629607Z",
     "shell.execute_reply.started": "2024-03-25T19:41:42.748985Z"
    }
   },
   "outputs": [
    {
     "name": "stderr",
     "output_type": "stream",
     "text": [
      "2024-03-25 19:41:50.448015: E external/local_xla/xla/stream_executor/cuda/cuda_dnn.cc:9261] Unable to register cuDNN factory: Attempting to register factory for plugin cuDNN when one has already been registered\n",
      "2024-03-25 19:41:50.448125: E external/local_xla/xla/stream_executor/cuda/cuda_fft.cc:607] Unable to register cuFFT factory: Attempting to register factory for plugin cuFFT when one has already been registered\n",
      "2024-03-25 19:41:50.730678: E external/local_xla/xla/stream_executor/cuda/cuda_blas.cc:1515] Unable to register cuBLAS factory: Attempting to register factory for plugin cuBLAS when one has already been registered\n"
     ]
    }
   ],
   "source": [
    "import pandas as pd\n",
    "import numpy as np\n",
    "import matplotlib.pyplot as plt\n",
    "import seaborn as sns\n",
    "from termcolor import colored\n",
    "import warnings\n",
    "import tensorflow as tf \n",
    "\n",
    "import multiprocessing as mp\n",
    "import os\n",
    "\n",
    "warnings. filterwarnings('ignore')\n",
    "\n",
    "def  color_print(print_str,\n",
    "                 print_color='green'):\n",
    "\n",
    "    '''print in given  color (default green)'''\n",
    "    print(colored(print_str,print_color))"
   ]
  },
  {
   "cell_type": "code",
   "execution_count": 4,
   "metadata": {
    "execution": {
     "iopub.execute_input": "2024-03-25T19:19:52.231305Z",
     "iopub.status.busy": "2024-03-25T19:19:52.230503Z",
     "iopub.status.idle": "2024-03-25T19:19:52.236423Z",
     "shell.execute_reply": "2024-03-25T19:19:52.235453Z",
     "shell.execute_reply.started": "2024-03-25T19:19:52.231271Z"
    }
   },
   "outputs": [],
   "source": [
    "# import tensorflow as tf\n",
    "\n",
    "# print(\"Tensorflow version \" + tf.__version__)\n",
    "# AUTO = tf.data.experimental.AUTOTUNE\n",
    "\n",
    "# # Detect TPU, return appropriate distribution strategy\n",
    "# try:\n",
    "#     tpu = tf.distribute.cluster_resolver.TPUClusterResolver() \n",
    "#     print('Running on TPU ', tpu.master())\n",
    "# except ValueError:\n",
    "#     tpu = None\n",
    "\n",
    "# if tpu:\n",
    "#     tf.config.experimental_connect_to_cluster(tpu)\n",
    "#     tf.tpu.experimental.initialize_tpu_system(tpu)\n",
    "#     strategy = tf.distribute.experimental.TPUStrategy(tpu)\n",
    "# else:\n",
    "#     strategy = tf.distribute.get_strategy() \n",
    "\n",
    "# print(\"REPLICAS: \", strategy.num_replicas_in_sync)"
   ]
  },
  {
   "cell_type": "code",
   "execution_count": 5,
   "metadata": {
    "execution": {
     "iopub.execute_input": "2024-03-25T19:27:07.259448Z",
     "iopub.status.busy": "2024-03-25T19:27:07.258615Z",
     "iopub.status.idle": "2024-03-25T19:27:07.722861Z",
     "shell.execute_reply": "2024-03-25T19:27:07.721658Z",
     "shell.execute_reply.started": "2024-03-25T19:27:07.259413Z"
    }
   },
   "outputs": [
    {
     "data": {
      "text/plain": [
       "'GPU'"
      ]
     },
     "execution_count": 5,
     "metadata": {},
     "output_type": "execute_result"
    }
   ],
   "source": [
    "device = \"GPU\" if tf.config.experimental.list_physical_devices(\"GPU\") else \"CPU\"\n",
    "device"
   ]
  },
  {
   "cell_type": "code",
   "execution_count": 5,
   "metadata": {
    "execution": {
     "iopub.execute_input": "2024-03-25T19:42:01.634113Z",
     "iopub.status.busy": "2024-03-25T19:42:01.632854Z",
     "iopub.status.idle": "2024-03-25T19:42:01.639400Z",
     "shell.execute_reply": "2024-03-25T19:42:01.638046Z",
     "shell.execute_reply.started": "2024-03-25T19:42:01.634065Z"
    }
   },
   "outputs": [],
   "source": [
    "gt_path = '/kaggle/input/soil-hyperspectral-images/train_data/train_data/train_gt.csv'\n",
    "wavelength_path = '/kaggle/input/soil-hyperspectral-images/train_data/train_data/wavelengths.csv'"
   ]
  },
  {
   "cell_type": "code",
   "execution_count": 6,
   "metadata": {
    "execution": {
     "iopub.execute_input": "2024-03-25T19:42:01.642376Z",
     "iopub.status.busy": "2024-03-25T19:42:01.642047Z",
     "iopub.status.idle": "2024-03-25T19:42:01.708436Z",
     "shell.execute_reply": "2024-03-25T19:42:01.707196Z",
     "shell.execute_reply.started": "2024-03-25T19:42:01.642347Z"
    }
   },
   "outputs": [],
   "source": [
    "gt_df = pd.read_csv(gt_path)\n",
    "wavelength_df = pd.read_csv(wavelength_path)"
   ]
  },
  {
   "cell_type": "code",
   "execution_count": 7,
   "metadata": {
    "execution": {
     "iopub.execute_input": "2024-03-25T19:42:01.710958Z",
     "iopub.status.busy": "2024-03-25T19:42:01.709991Z",
     "iopub.status.idle": "2024-03-25T19:42:01.716624Z",
     "shell.execute_reply": "2024-03-25T19:42:01.715430Z",
     "shell.execute_reply.started": "2024-03-25T19:42:01.710919Z"
    }
   },
   "outputs": [],
   "source": [
    "classes = ['P','K','Mg','pH']"
   ]
  },
  {
   "cell_type": "code",
   "execution_count": 8,
   "metadata": {
    "execution": {
     "iopub.execute_input": "2024-03-25T19:42:01.719494Z",
     "iopub.status.busy": "2024-03-25T19:42:01.718299Z",
     "iopub.status.idle": "2024-03-25T19:42:01.727371Z",
     "shell.execute_reply": "2024-03-25T19:42:01.726289Z",
     "shell.execute_reply.started": "2024-03-25T19:42:01.719450Z"
    }
   },
   "outputs": [],
   "source": [
    "def load_npz_file(filepath, masked, pad_mask):\n",
    "    with np.load(filepath) as npz:\n",
    "      arr = np.ma.MaskedArray(**npz)\n",
    "\n",
    "    if masked == True:\n",
    "      if pad_mask : # pad masked pixels with 0's to preserve shape\n",
    "        mask = arr.mask\n",
    "        return np.where(mask==True,0,arr.data)\n",
    "\n",
    "    return arr"
   ]
  },
  {
   "cell_type": "code",
   "execution_count": 9,
   "metadata": {
    "execution": {
     "iopub.execute_input": "2024-03-25T19:42:01.730833Z",
     "iopub.status.busy": "2024-03-25T19:42:01.730523Z",
     "iopub.status.idle": "2024-03-25T19:42:01.740148Z",
     "shell.execute_reply": "2024-03-25T19:42:01.739028Z",
     "shell.execute_reply.started": "2024-03-25T19:42:01.730802Z"
    }
   },
   "outputs": [],
   "source": [
    "def load_and_reshape(filepath):\n",
    "    '''load and reshape array'''\n",
    "\n",
    "    arr = load_npz_file(filepath,\n",
    "                        masked=False,\n",
    "                        pad_mask=False)\n",
    "\n",
    "    index = filepath.split('/')[-1].split(sep='.')[0]\n",
    "\n",
    "    depth,height,width = arr.shape\n",
    "    arr = arr.reshape((height, width, depth))\n",
    "    \n",
    "    return arr"
   ]
  },
  {
   "cell_type": "code",
   "execution_count": 10,
   "metadata": {
    "execution": {
     "iopub.execute_input": "2024-03-25T19:42:01.742416Z",
     "iopub.status.busy": "2024-03-25T19:42:01.741502Z",
     "iopub.status.idle": "2024-03-25T19:42:01.752435Z",
     "shell.execute_reply": "2024-03-25T19:42:01.751343Z",
     "shell.execute_reply.started": "2024-03-25T19:42:01.742381Z"
    }
   },
   "outputs": [],
   "source": [
    "# hyperspectral image tiles\n",
    "train_tiles_folder = '/kaggle/input/soil-hyperspectral-images/train_data/train_data/train_data'"
   ]
  },
  {
   "cell_type": "code",
   "execution_count": 11,
   "metadata": {
    "execution": {
     "iopub.execute_input": "2024-03-25T19:42:01.753863Z",
     "iopub.status.busy": "2024-03-25T19:42:01.753558Z",
     "iopub.status.idle": "2024-03-25T19:42:07.555770Z",
     "shell.execute_reply": "2024-03-25T19:42:07.554655Z",
     "shell.execute_reply.started": "2024-03-25T19:42:01.753829Z"
    }
   },
   "outputs": [
    {
     "data": {
      "text/plain": [
       "True"
      ]
     },
     "execution_count": 11,
     "metadata": {},
     "output_type": "execute_result"
    }
   ],
   "source": [
    "#adding paths to train_gt csv\n",
    "gt_df['paths'] = train_tiles_folder + '/' + gt_df['sample_index'].astype(str) + '.npz'\n",
    "\n",
    "#check if all the paths exists\n",
    "\n",
    "all([os.path.exists(path) for path in gt_df['paths']])"
   ]
  },
  {
   "cell_type": "code",
   "execution_count": 13,
   "metadata": {
    "execution": {
     "iopub.execute_input": "2024-03-25T19:14:54.415899Z",
     "iopub.status.busy": "2024-03-25T19:14:54.415647Z",
     "iopub.status.idle": "2024-03-25T19:14:54.554784Z",
     "shell.execute_reply": "2024-03-25T19:14:54.554133Z",
     "shell.execute_reply.started": "2024-03-25T19:14:54.415875Z"
    }
   },
   "outputs": [
    {
     "data": {
      "text/plain": [
       "(119, 124, 150)"
      ]
     },
     "execution_count": 13,
     "metadata": {},
     "output_type": "execute_result"
    }
   ],
   "source": [
    "load_and_reshape(gt_df['paths'][1731]).shape"
   ]
  },
  {
   "cell_type": "code",
   "execution_count": 14,
   "metadata": {
    "execution": {
     "iopub.execute_input": "2024-03-25T19:14:54.555814Z",
     "iopub.status.busy": "2024-03-25T19:14:54.555585Z",
     "iopub.status.idle": "2024-03-25T19:14:54.566420Z",
     "shell.execute_reply": "2024-03-25T19:14:54.565773Z",
     "shell.execute_reply.started": "2024-03-25T19:14:54.555791Z"
    }
   },
   "outputs": [
    {
     "data": {
      "text/plain": [
       "(11, 11, 150)"
      ]
     },
     "execution_count": 14,
     "metadata": {},
     "output_type": "execute_result"
    }
   ],
   "source": [
    "load_and_reshape(gt_df['paths'][0]).shape"
   ]
  },
  {
   "cell_type": "code",
   "execution_count": null,
   "metadata": {
    "execution": {
     "iopub.execute_input": "2024-03-19T17:52:53.280341Z",
     "iopub.status.busy": "2024-03-19T17:52:53.279966Z",
     "iopub.status.idle": "2024-03-19T17:53:47.037744Z",
     "shell.execute_reply": "2024-03-19T17:53:47.036773Z",
     "shell.execute_reply.started": "2024-03-19T17:52:53.280301Z"
    }
   },
   "outputs": [],
   "source": [
    "# To check the least size of images\n",
    "# min_h = 1000000\n",
    "# min_w = 1000000\n",
    "# for i in range(len(gt_df['paths'])):\n",
    "#     h, w, d = load_and_reshape(gt_df['paths'][i]).shape\n",
    "#     if h < min_h:\n",
    "#         min_h = h\n",
    "#     if h < min_w:\n",
    "#         min_w = w\n",
    "\n",
    "# print(min_h, min_w)"
   ]
  },
  {
   "cell_type": "markdown",
   "metadata": {},
   "source": [
    "## Checking Data Sizes"
   ]
  },
  {
   "cell_type": "code",
   "execution_count": 20,
   "metadata": {
    "execution": {
     "iopub.execute_input": "2024-03-25T18:37:26.774307Z",
     "iopub.status.busy": "2024-03-25T18:37:26.773506Z",
     "iopub.status.idle": "2024-03-25T18:38:10.259830Z",
     "shell.execute_reply": "2024-03-25T18:38:10.258792Z",
     "shell.execute_reply.started": "2024-03-25T18:37:26.774277Z"
    }
   },
   "outputs": [
    {
     "name": "stdout",
     "output_type": "stream",
     "text": [
      "(11, 11)\n",
      "(33, 24)\n",
      "(21, 37)\n",
      "(21, 38)\n",
      "(25, 36)\n",
      "(24, 37)\n",
      "(25, 37)\n",
      "(23, 40)\n",
      "(29, 35)\n",
      "(28, 37)\n",
      "(39, 26)\n",
      "(28, 38)\n",
      "(29, 37)\n",
      "(27, 41)\n",
      "(24, 46)\n",
      "(33, 38)\n",
      "(34, 38)\n",
      "(26, 46)\n",
      "(35, 37)\n",
      "(30, 42)\n",
      "(34, 39)\n",
      "(35, 38)\n",
      "(29, 45)\n",
      "(36, 38)\n",
      "(31, 43)\n",
      "(26, 48)\n",
      "(35, 39)\n",
      "(39, 35)\n",
      "(40, 37)\n",
      "(37, 40)\n",
      "(42, 36)\n",
      "(33, 46)\n",
      "(39, 40)\n",
      "(53, 26)\n",
      "(39, 41)\n",
      "(40, 41)\n",
      "(43, 38)\n",
      "(41, 42)\n",
      "(42, 41)\n",
      "(39, 44)\n",
      "(56, 27)\n",
      "(40, 44)\n",
      "(42, 42)\n",
      "(46, 38)\n",
      "(42, 43)\n",
      "(43, 42)\n",
      "(38, 47)\n",
      "(42, 44)\n",
      "(36, 50)\n",
      "(43, 43)\n",
      "(43, 44)\n",
      "(46, 41)\n",
      "(45, 42)\n",
      "(40, 47)\n",
      "(16, 71)\n",
      "(42, 45)\n",
      "(65, 22)\n",
      "(48, 40)\n",
      "(43, 45)\n",
      "(47, 41)\n",
      "(44, 44)\n",
      "(46, 42)\n",
      "(41, 48)\n",
      "(45, 44)\n",
      "(44, 46)\n",
      "(43, 47)\n",
      "(43, 48)\n",
      "(42, 49)\n",
      "(44, 48)\n",
      "(47, 46)\n",
      "(45, 48)\n",
      "(49, 44)\n",
      "(46, 47)\n",
      "(47, 47)\n",
      "(49, 45)\n",
      "(43, 51)\n",
      "(31, 63)\n",
      "(46, 48)\n",
      "(47, 48)\n",
      "(61, 34)\n",
      "(46, 49)\n",
      "(45, 50)\n",
      "(68, 27)\n",
      "(50, 46)\n",
      "(49, 47)\n",
      "(25, 71)\n",
      "(47, 51)\n",
      "(48, 50)\n",
      "(33, 67)\n",
      "(34, 69)\n",
      "(68, 38)\n",
      "(69, 39)\n",
      "(17, 93)\n",
      "(60, 52)\n",
      "(68, 45)\n",
      "(51, 62)\n",
      "(48, 67)\n",
      "(65, 51)\n",
      "(63, 56)\n",
      "(58, 61)\n",
      "(56, 63)\n",
      "(19, 107)\n",
      "(64, 62)\n",
      "(83, 59)\n",
      "(56, 95)\n",
      "(47, 104)\n",
      "(90, 61)\n",
      "(62, 93)\n",
      "(71, 85)\n",
      "(96, 61)\n",
      "(88, 71)\n",
      "(87, 72)\n",
      "(61, 100)\n",
      "(72, 89)\n",
      "(71, 92)\n",
      "(105, 59)\n",
      "(85, 80)\n",
      "(65, 101)\n",
      "(90, 76)\n",
      "(81, 86)\n",
      "(110, 58)\n",
      "(54, 115)\n",
      "(84, 85)\n",
      "(104, 66)\n",
      "(90, 80)\n",
      "(85, 85)\n",
      "(71, 101)\n",
      "(90, 82)\n",
      "(92, 81)\n",
      "(105, 68)\n",
      "(104, 71)\n",
      "(115, 60)\n",
      "(97, 78)\n",
      "(79, 97)\n",
      "(86, 90)\n",
      "(57, 119)\n",
      "(87, 90)\n",
      "(79, 98)\n",
      "(58, 119)\n",
      "(74, 103)\n",
      "(89, 89)\n",
      "(98, 80)\n",
      "(89, 90)\n",
      "(90, 89)\n",
      "(90, 90)\n",
      "(89, 92)\n",
      "(78, 104)\n",
      "(99, 83)\n",
      "(101, 81)\n",
      "(113, 69)\n",
      "(94, 89)\n",
      "(84, 99)\n",
      "(93, 90)\n",
      "(85, 99)\n",
      "(84, 102)\n",
      "(92, 94)\n",
      "(68, 119)\n",
      "(77, 110)\n",
      "(83, 105)\n",
      "(75, 114)\n",
      "(72, 117)\n",
      "(66, 123)\n",
      "(121, 68)\n",
      "(98, 92)\n",
      "(95, 95)\n",
      "(90, 100)\n",
      "(94, 96)\n",
      "(92, 98)\n",
      "(46, 144)\n",
      "(95, 96)\n",
      "(94, 97)\n",
      "(115, 76)\n",
      "(105, 86)\n",
      "(90, 102)\n",
      "(96, 96)\n",
      "(93, 99)\n",
      "(87, 106)\n",
      "(96, 97)\n",
      "(103, 90)\n",
      "(97, 96)\n",
      "(82, 112)\n",
      "(117, 78)\n",
      "(99, 96)\n",
      "(87, 109)\n",
      "(102, 95)\n",
      "(137, 60)\n",
      "(65, 132)\n",
      "(96, 101)\n",
      "(85, 113)\n",
      "(96, 103)\n",
      "(70, 129)\n",
      "(112, 87)\n",
      "(114, 85)\n",
      "(102, 97)\n",
      "(90, 109)\n",
      "(98, 102)\n",
      "(116, 84)\n",
      "(104, 96)\n",
      "(108, 92)\n",
      "(104, 97)\n",
      "(110, 91)\n",
      "(104, 98)\n",
      "(101, 101)\n",
      "(91, 112)\n",
      "(108, 95)\n",
      "(126, 77)\n",
      "(164, 39)\n",
      "(98, 106)\n",
      "(121, 83)\n",
      "(103, 102)\n",
      "(100, 105)\n",
      "(80, 125)\n",
      "(104, 101)\n",
      "(96, 109)\n",
      "(73, 133)\n",
      "(103, 103)\n",
      "(108, 98)\n",
      "(101, 106)\n",
      "(107, 100)\n",
      "(95, 112)\n",
      "(93, 115)\n",
      "(100, 108)\n",
      "(107, 101)\n",
      "(78, 130)\n",
      "(73, 135)\n",
      "(96, 113)\n",
      "(107, 102)\n",
      "(134, 76)\n",
      "(88, 122)\n",
      "(102, 108)\n",
      "(109, 101)\n",
      "(104, 106)\n",
      "(118, 92)\n",
      "(106, 104)\n",
      "(97, 114)\n",
      "(127, 84)\n",
      "(115, 96)\n",
      "(103, 108)\n",
      "(105, 106)\n",
      "(88, 123)\n",
      "(106, 106)\n",
      "(105, 107)\n",
      "(78, 134)\n",
      "(104, 108)\n",
      "(106, 107)\n",
      "(96, 117)\n",
      "(105, 108)\n",
      "(100, 113)\n",
      "(109, 104)\n",
      "(116, 97)\n",
      "(119, 95)\n",
      "(116, 98)\n",
      "(111, 103)\n",
      "(104, 111)\n",
      "(75, 140)\n",
      "(101, 114)\n",
      "(112, 103)\n",
      "(109, 107)\n",
      "(101, 115)\n",
      "(92, 124)\n",
      "(108, 108)\n",
      "(119, 98)\n",
      "(109, 108)\n",
      "(86, 132)\n",
      "(124, 94)\n",
      "(112, 106)\n",
      "(102, 116)\n",
      "(109, 109)\n",
      "(115, 103)\n",
      "(110, 109)\n",
      "(107, 112)\n",
      "(74, 145)\n",
      "(108, 111)\n",
      "(111, 109)\n",
      "(106, 114)\n",
      "(113, 107)\n",
      "(110, 110)\n",
      "(117, 103)\n",
      "(111, 110)\n",
      "(75, 146)\n",
      "(108, 113)\n",
      "(122, 99)\n",
      "(110, 111)\n",
      "(102, 119)\n",
      "(100, 122)\n",
      "(107, 115)\n",
      "(109, 113)\n",
      "(111, 111)\n",
      "(117, 106)\n",
      "(112, 111)\n",
      "(95, 128)\n",
      "(111, 112)\n",
      "(99, 124)\n",
      "(116, 108)\n",
      "(104, 120)\n",
      "(111, 113)\n",
      "(118, 106)\n",
      "(130, 94)\n",
      "(110, 114)\n",
      "(112, 112)\n",
      "(118, 107)\n",
      "(128, 97)\n",
      "(112, 113)\n",
      "(101, 125)\n",
      "(116, 110)\n",
      "(113, 114)\n",
      "(110, 117)\n",
      "(120, 107)\n",
      "(114, 113)\n",
      "(121, 106)\n",
      "(114, 114)\n",
      "(118, 110)\n",
      "(106, 122)\n",
      "(108, 120)\n",
      "(115, 113)\n",
      "(118, 111)\n",
      "(120, 109)\n",
      "(118, 112)\n",
      "(73, 157)\n",
      "(113, 117)\n",
      "(127, 103)\n",
      "(115, 115)\n",
      "(72, 158)\n",
      "(48, 182)\n",
      "(110, 120)\n",
      "(119, 111)\n",
      "(107, 123)\n",
      "(115, 116)\n",
      "(124, 107)\n",
      "(114, 117)\n",
      "(104, 127)\n",
      "(122, 110)\n",
      "(110, 122)\n",
      "(124, 108)\n",
      "(126, 106)\n",
      "(102, 130)\n",
      "(109, 123)\n",
      "(112, 121)\n",
      "(125, 108)\n",
      "(114, 120)\n",
      "(140, 94)\n",
      "(109, 125)\n",
      "(111, 123)\n",
      "(75, 159)\n",
      "(109, 126)\n",
      "(127, 108)\n",
      "(134, 101)\n",
      "(153, 82)\n",
      "(126, 109)\n",
      "(117, 118)\n",
      "(107, 128)\n",
      "(149, 87)\n",
      "(101, 135)\n",
      "(117, 119)\n",
      "(112, 124)\n",
      "(131, 105)\n",
      "(119, 117)\n",
      "(114, 122)\n",
      "(118, 118)\n",
      "(124, 113)\n",
      "(119, 118)\n",
      "(95, 142)\n",
      "(129, 109)\n",
      "(102, 136)\n",
      "(109, 129)\n",
      "(101, 137)\n",
      "(122, 116)\n",
      "(124, 114)\n",
      "(115, 124)\n",
      "(120, 119)\n",
      "(119, 120)\n",
      "(107, 132)\n",
      "(125, 115)\n",
      "(120, 120)\n",
      "(119, 121)\n",
      "(120, 121)\n",
      "(108, 133)\n",
      "(117, 124)\n",
      "(112, 129)\n",
      "(121, 120)\n",
      "(123, 118)\n",
      "(133, 109)\n",
      "(121, 121)\n",
      "(127, 115)\n",
      "(122, 120)\n",
      "(122, 121)\n",
      "(136, 107)\n",
      "(100, 143)\n",
      "(119, 124)\n",
      "(78, 166)\n",
      "(68, 176)\n",
      "(125, 119)\n",
      "(122, 122)\n",
      "(124, 120)\n",
      "(94, 151)\n",
      "(125, 120)\n",
      "(127, 118)\n",
      "(124, 121)\n",
      "(124, 122)\n",
      "(133, 113)\n",
      "(124, 123)\n",
      "(118, 130)\n",
      "(96, 152)\n",
      "(124, 124)\n",
      "(125, 124)\n",
      "(124, 125)\n",
      "(125, 125)\n",
      "(132, 118)\n",
      "(181, 69)\n",
      "(114, 136)\n",
      "(128, 122)\n",
      "(126, 125)\n",
      "(122, 129)\n",
      "(126, 126)\n",
      "(135, 117)\n",
      "(130, 122)\n",
      "(125, 127)\n",
      "(127, 126)\n",
      "(131, 122)\n",
      "(130, 124)\n",
      "(127, 127)\n",
      "(131, 123)\n",
      "(128, 126)\n",
      "(123, 131)\n",
      "(126, 129)\n",
      "(121, 134)\n",
      "(132, 124)\n",
      "(127, 129)\n",
      "(130, 126)\n",
      "(171, 86)\n",
      "(132, 125)\n",
      "(121, 137)\n",
      "(135, 123)\n",
      "(68, 190)\n",
      "(130, 128)\n",
      "(91, 167)\n",
      "(130, 129)\n",
      "(131, 129)\n",
      "(97, 163)\n",
      "(109, 151)\n",
      "(128, 132)\n",
      "(117, 144)\n",
      "(155, 106)\n",
      "(126, 135)\n",
      "(130, 131)\n",
      "(160, 101)\n",
      "(125, 136)\n",
      "(116, 145)\n",
      "(146, 115)\n",
      "(123, 139)\n",
      "(161, 101)\n",
      "(113, 149)\n",
      "(132, 130)\n",
      "(131, 131)\n",
      "(119, 143)\n",
      "(132, 131)\n",
      "(111, 152)\n",
      "(131, 132)\n",
      "(132, 132)\n",
      "(134, 131)\n",
      "(131, 134)\n",
      "(135, 130)\n",
      "(135, 131)\n",
      "(130, 136)\n",
      "(125, 141)\n",
      "(139, 127)\n",
      "(134, 132)\n",
      "(130, 137)\n",
      "(134, 133)\n",
      "(115, 153)\n",
      "(138, 130)\n",
      "(133, 135)\n",
      "(132, 137)\n",
      "(136, 133)\n",
      "(177, 92)\n",
      "(135, 134)\n",
      "(137, 132)\n",
      "(136, 134)\n",
      "(131, 139)\n",
      "(135, 135)\n",
      "(137, 133)\n",
      "(136, 135)\n",
      "(135, 136)\n",
      "(71, 200)\n",
      "(154, 117)\n",
      "(158, 113)\n",
      "(136, 136)\n",
      "(146, 126)\n",
      "(139, 134)\n",
      "(148, 125)\n",
      "(143, 130)\n",
      "(131, 142)\n",
      "(68, 205)\n",
      "(138, 135)\n",
      "(137, 136)\n",
      "(129, 145)\n",
      "(128, 146)\n",
      "(137, 137)\n",
      "(125, 149)\n",
      "(138, 137)\n",
      "(140, 135)\n",
      "(140, 136)\n",
      "(132, 144)\n",
      "(138, 138)\n",
      "(140, 137)\n",
      "(151, 126)\n",
      "(172, 105)\n",
      "(136, 141)\n",
      "(145, 132)\n",
      "(133, 144)\n",
      "(152, 125)\n",
      "(143, 135)\n",
      "(164, 114)\n",
      "(138, 140)\n",
      "(145, 134)\n",
      "(147, 132)\n",
      "(142, 137)\n",
      "(115, 166)\n",
      "(196, 85)\n",
      "(155, 127)\n",
      "(145, 137)\n",
      "(139, 144)\n",
      "(143, 140)\n",
      "(112, 171)\n",
      "(141, 142)\n",
      "(145, 138)\n",
      "(140, 143)\n",
      "(171, 112)\n",
      "(142, 141)\n",
      "(167, 117)\n",
      "(150, 134)\n",
      "(135, 149)\n",
      "(142, 142)\n",
      "(136, 149)\n",
      "(140, 145)\n",
      "(217, 68)\n",
      "(142, 143)\n",
      "(199, 86)\n",
      "(140, 146)\n",
      "(118, 168)\n",
      "(151, 135)\n",
      "(138, 149)\n",
      "(138, 150)\n",
      "(144, 146)\n",
      "(92, 199)\n",
      "(179, 112)\n",
      "(149, 143)\n",
      "(150, 143)\n",
      "(157, 136)\n",
      "(143, 151)\n",
      "(184, 110)\n",
      "(209, 86)\n",
      "(201, 94)\n",
      "(141, 155)\n",
      "(198, 99)\n",
      "(142, 155)\n",
      "(119, 180)\n",
      "(132, 168)\n",
      "(268, 32)\n",
      "(158, 142)\n",
      "(119, 181)\n",
      "(181, 119)\n",
      "(179, 121)\n",
      "(167, 134)\n",
      "(183, 118)\n",
      "(142, 160)\n",
      "(175, 127)\n",
      "(121, 184)\n",
      "(140, 168)\n",
      "(178, 132)\n",
      "(158, 152)\n",
      "(165, 148)\n",
      "(97, 216)\n",
      "(162, 157)\n",
      "(213, 108)\n",
      "(178, 143)\n",
      "(116, 207)\n",
      "(139, 186)\n",
      "(111, 217)\n",
      "(156, 178)\n",
      "(126, 212)\n",
      "(162, 182)\n",
      "(132, 284)\n"
     ]
    }
   ],
   "source": [
    "sizes_set = set()\n",
    "for i in range(len(gt_df['paths'])):\n",
    "    h, w, d = load_and_reshape(gt_df['paths'][i]).shape\n",
    "    if (h,w) not in sizes_set:\n",
    "        sizes_set.add((h,w))\n",
    "\n",
    "sorted_list = sorted(sizes_set, key=lambda x: sum(x))\n",
    "for element in sorted_list:\n",
    "    print(element)"
   ]
  },
  {
   "cell_type": "code",
   "execution_count": 21,
   "metadata": {
    "execution": {
     "iopub.execute_input": "2024-03-25T18:38:23.534360Z",
     "iopub.status.busy": "2024-03-25T18:38:23.533676Z",
     "iopub.status.idle": "2024-03-25T18:38:23.539812Z",
     "shell.execute_reply": "2024-03-25T18:38:23.538900Z",
     "shell.execute_reply.started": "2024-03-25T18:38:23.534327Z"
    }
   },
   "outputs": [
    {
     "data": {
      "text/plain": [
       "583"
      ]
     },
     "execution_count": 21,
     "metadata": {},
     "output_type": "execute_result"
    }
   ],
   "source": [
    "len(sorted_list)"
   ]
  },
  {
   "cell_type": "code",
   "execution_count": 12,
   "metadata": {
    "execution": {
     "iopub.execute_input": "2024-03-25T19:42:07.559500Z",
     "iopub.status.busy": "2024-03-25T19:42:07.559149Z",
     "iopub.status.idle": "2024-03-25T19:42:07.567952Z",
     "shell.execute_reply": "2024-03-25T19:42:07.566814Z",
     "shell.execute_reply.started": "2024-03-25T19:42:07.559468Z"
    }
   },
   "outputs": [],
   "source": [
    "def visual_rep(arr, band_id):\n",
    "\n",
    "#     arr = load_npz_file(path, masked=False, pad_mask=False)\n",
    "    color_print(f'Shape of the selected sample image {arr.shape} (height, width, channels)')\n",
    "\n",
    "    fig, axs = plt.subplots(1, 2, figsize=(10, 5))\n",
    "    wavelen = wavelength_df.loc[band_id-1]\n",
    "\n",
    "    axs[0].imshow(arr[:, :, band_id].data)\n",
    "    plt.axis('off')\n",
    "    axs[0].set_title('Un masked array')\n",
    "\n",
    "    axs[1].imshow(arr[:, :, band_id])\n",
    "    plt.axis('off')\n",
    "    axs[1].set_title('masked array')\n",
    "\n",
    "    plt.suptitle(f'Representation of band {int(wavelen[\"band_no\"])} ({wavelen[\"wavelength\"]} nm)', fontsize=15)\n",
    "    plt.show()"
   ]
  },
  {
   "cell_type": "markdown",
   "metadata": {},
   "source": [
    "## Resizing one image"
   ]
  },
  {
   "cell_type": "markdown",
   "metadata": {},
   "source": [
    "Lossy Resizing"
   ]
  },
  {
   "cell_type": "code",
   "execution_count": null,
   "metadata": {
    "execution": {
     "iopub.execute_input": "2024-03-20T13:28:49.640423Z",
     "iopub.status.busy": "2024-03-20T13:28:49.639585Z",
     "iopub.status.idle": "2024-03-20T13:28:49.690895Z",
     "shell.execute_reply": "2024-03-20T13:28:49.689903Z",
     "shell.execute_reply.started": "2024-03-20T13:28:49.640391Z"
    }
   },
   "outputs": [],
   "source": [
    "hyperspectral_image = load_and_reshape(gt_df['paths'][1731])\n",
    "\n",
    "# Convert the hyperspectral image to a TensorFlow tensor\n",
    "hyperspectral_tensor = tf.convert_to_tensor(hyperspectral_image, dtype=tf.float32)\n",
    "\n",
    "# Reshape the tensor to add a batch dimension\n",
    "hyperspectral_tensor = tf.expand_dims(hyperspectral_tensor, axis=0)\n",
    "\n",
    "# Resize the hyperspectral image to 11x11 using TensorFlow\n",
    "resized_hyperspectral_tensor = tf.image.resize(hyperspectral_tensor, size=(11, 11))\n",
    "\n",
    "# Remove the batch dimension and convert the resized tensor back to a numpy array\n",
    "resized_hyperspectral_image = resized_hyperspectral_tensor.numpy()[0]\n",
    "\n",
    "# Print the shape of the resized hyperspectral image\n",
    "print(\"Original image shape:\", hyperspectral_image.shape, \"\\nResized hyperspectral image shape:\", resized_hyperspectral_image.shape)"
   ]
  },
  {
   "cell_type": "code",
   "execution_count": null,
   "metadata": {
    "execution": {
     "iopub.execute_input": "2024-03-20T13:28:54.335887Z",
     "iopub.status.busy": "2024-03-20T13:28:54.335161Z",
     "iopub.status.idle": "2024-03-20T13:28:54.794541Z",
     "shell.execute_reply": "2024-03-20T13:28:54.793426Z",
     "shell.execute_reply.started": "2024-03-20T13:28:54.335837Z"
    }
   },
   "outputs": [],
   "source": [
    "visual_rep(hyperspectral_image, 1)"
   ]
  },
  {
   "cell_type": "code",
   "execution_count": null,
   "metadata": {
    "execution": {
     "iopub.execute_input": "2024-03-20T13:28:58.541721Z",
     "iopub.status.busy": "2024-03-20T13:28:58.541307Z",
     "iopub.status.idle": "2024-03-20T13:28:59.507101Z",
     "shell.execute_reply": "2024-03-20T13:28:59.506148Z",
     "shell.execute_reply.started": "2024-03-20T13:28:58.541694Z"
    }
   },
   "outputs": [],
   "source": [
    "visual_rep(resized_hyperspectral_image, 1)"
   ]
  },
  {
   "cell_type": "markdown",
   "metadata": {},
   "source": [
    "## Resizing all images"
   ]
  },
  {
   "cell_type": "code",
   "execution_count": null,
   "metadata": {
    "execution": {
     "iopub.execute_input": "2024-03-20T13:29:15.340301Z",
     "iopub.status.busy": "2024-03-20T13:29:15.339334Z",
     "iopub.status.idle": "2024-03-20T13:29:46.010031Z",
     "shell.execute_reply": "2024-03-20T13:29:46.008712Z",
     "shell.execute_reply.started": "2024-03-20T13:29:15.340261Z"
    }
   },
   "outputs": [],
   "source": [
    "resized_images = []\n",
    "\n",
    "for path in gt_df['paths']:\n",
    "    # Load and reshape the hyperspectral image\n",
    "    hyperspectral_image = load_and_reshape(path)\n",
    "    \n",
    "    # Convert the hyperspectral image to a TensorFlow tensor\n",
    "    hyperspectral_tensor = tf.convert_to_tensor(hyperspectral_image, dtype=tf.float32)\n",
    "    \n",
    "    # Reshape the tensor to add a batch dimension\n",
    "    hyperspectral_tensor = tf.expand_dims(hyperspectral_tensor, axis=0)\n",
    "    \n",
    "    # Resize the hyperspectral image to 11x11 using TensorFlow\n",
    "    resized_hyperspectral_tensor = tf.image.resize(hyperspectral_tensor, size=(11, 11))\n",
    "    \n",
    "    # Remove the batch dimension and convert the resized tensor back to a numpy array\n",
    "    resized_hyperspectral_image = resized_hyperspectral_tensor.numpy()[0]\n",
    "    \n",
    "    # Append the resized image to the list\n",
    "    resized_images.append(resized_hyperspectral_image)"
   ]
  },
  {
   "cell_type": "code",
   "execution_count": null,
   "metadata": {
    "execution": {
     "iopub.execute_input": "2024-03-20T13:29:46.012530Z",
     "iopub.status.busy": "2024-03-20T13:29:46.012114Z",
     "iopub.status.idle": "2024-03-20T13:29:46.058873Z",
     "shell.execute_reply": "2024-03-20T13:29:46.057696Z",
     "shell.execute_reply.started": "2024-03-20T13:29:46.012492Z"
    }
   },
   "outputs": [],
   "source": [
    "resized_images = np.array(resized_images)\n",
    "resized_images.shape"
   ]
  },
  {
   "cell_type": "markdown",
   "metadata": {},
   "source": [
    "## Slicing images that aren't 11x11"
   ]
  },
  {
   "cell_type": "code",
   "execution_count": 13,
   "metadata": {
    "execution": {
     "iopub.execute_input": "2024-03-25T19:42:07.569556Z",
     "iopub.status.busy": "2024-03-25T19:42:07.569253Z",
     "iopub.status.idle": "2024-03-25T19:43:42.294483Z",
     "shell.execute_reply": "2024-03-25T19:43:42.293265Z",
     "shell.execute_reply.started": "2024-03-25T19:42:07.569529Z"
    }
   },
   "outputs": [],
   "source": [
    "resized_images = []\n",
    "y = []\n",
    "tile_height = 11\n",
    "tile_width = 11\n",
    "\n",
    "for index, row in gt_df.iterrows():\n",
    "    path = row['paths']\n",
    "    hyperspectral_image = load_and_reshape(path)\n",
    "    image_height, image_width, _ = hyperspectral_image.shape\n",
    "\n",
    "    # Calculate number of tiles in each dimension\n",
    "    num_tiles_height = image_height // tile_height\n",
    "    num_tiles_width = image_width // tile_width\n",
    "\n",
    "    for i in range(num_tiles_height*num_tiles_width):\n",
    "        y.append(row[['P', 'K', 'Mg', 'pH']])\n",
    "        \n",
    "    # Iterate through each tile and extract it from the image\n",
    "    for i in range(num_tiles_height):\n",
    "        for j in range(num_tiles_width):\n",
    "            # Calculate coordinates for extracting the tile\n",
    "            start_y = i * tile_height\n",
    "            end_y = (i + 1) * tile_height\n",
    "            start_x = j * tile_width\n",
    "            end_x = (j + 1) * tile_width\n",
    "\n",
    "            # Extract the tile from the image\n",
    "            tile = hyperspectral_image[start_y:end_y, start_x:end_x, :]\n",
    "            resized_images.append(tile)"
   ]
  },
  {
   "cell_type": "code",
   "execution_count": 14,
   "metadata": {
    "execution": {
     "iopub.execute_input": "2024-03-25T19:43:42.296418Z",
     "iopub.status.busy": "2024-03-25T19:43:42.296067Z",
     "iopub.status.idle": "2024-03-25T19:43:47.920318Z",
     "shell.execute_reply": "2024-03-25T19:43:47.919124Z",
     "shell.execute_reply.started": "2024-03-25T19:43:42.296388Z"
    }
   },
   "outputs": [],
   "source": [
    "y = pd.DataFrame(y, columns=['P', 'K', 'Mg', 'pH'])"
   ]
  },
  {
   "cell_type": "code",
   "execution_count": 15,
   "metadata": {
    "execution": {
     "iopub.execute_input": "2024-03-25T19:43:47.922837Z",
     "iopub.status.busy": "2024-03-25T19:43:47.922498Z",
     "iopub.status.idle": "2024-03-25T19:43:49.094839Z",
     "shell.execute_reply": "2024-03-25T19:43:49.093729Z",
     "shell.execute_reply.started": "2024-03-25T19:43:47.922809Z"
    }
   },
   "outputs": [
    {
     "data": {
      "text/plain": [
       "(73397, 11, 11, 150)"
      ]
     },
     "execution_count": 15,
     "metadata": {},
     "output_type": "execute_result"
    }
   ],
   "source": [
    "resized_images = np.array(resized_images)\n",
    "resized_images.shape"
   ]
  },
  {
   "cell_type": "code",
   "execution_count": 16,
   "metadata": {
    "execution": {
     "iopub.execute_input": "2024-03-25T17:36:32.382675Z",
     "iopub.status.busy": "2024-03-25T17:36:32.382238Z",
     "iopub.status.idle": "2024-03-25T17:36:32.389496Z",
     "shell.execute_reply": "2024-03-25T17:36:32.388575Z",
     "shell.execute_reply.started": "2024-03-25T17:36:32.382645Z"
    }
   },
   "outputs": [
    {
     "data": {
      "text/plain": [
       "110"
      ]
     },
     "execution_count": 16,
     "metadata": {},
     "output_type": "execute_result"
    }
   ],
   "source": [
    "# (119, 124, 150)\n",
    "# len(tiles)\n",
    "# 119 // 11  = 10\n",
    "# 124 // 11 = 11\n",
    "# for i in len(tiles):\n",
    "#     visual_rep(tiles[i], 1)"
   ]
  },
  {
   "cell_type": "markdown",
   "metadata": {},
   "source": [
    "## Only taking 11*11 images\n",
    "images 0 - 649 have shape (11, 11, 150)"
   ]
  },
  {
   "cell_type": "code",
   "execution_count": null,
   "metadata": {
    "execution": {
     "iopub.execute_input": "2024-03-25T04:11:47.044319Z",
     "iopub.status.busy": "2024-03-25T04:11:47.043652Z",
     "iopub.status.idle": "2024-03-25T04:11:48.194710Z",
     "shell.execute_reply": "2024-03-25T04:11:48.193750Z",
     "shell.execute_reply.started": "2024-03-25T04:11:47.044280Z"
    }
   },
   "outputs": [],
   "source": [
    "resized_images = []\n",
    "\n",
    "for i in range(650):\n",
    "    hyperspectral_image = load_and_reshape(gt_df['paths'][i])\n",
    "    resized_images.append(hyperspectral_image)"
   ]
  },
  {
   "cell_type": "code",
   "execution_count": null,
   "metadata": {
    "execution": {
     "iopub.execute_input": "2024-03-25T04:11:49.414080Z",
     "iopub.status.busy": "2024-03-25T04:11:49.413709Z",
     "iopub.status.idle": "2024-03-25T04:11:49.435138Z",
     "shell.execute_reply": "2024-03-25T04:11:49.434111Z",
     "shell.execute_reply.started": "2024-03-25T04:11:49.414054Z"
    }
   },
   "outputs": [],
   "source": [
    "resized_images = np.array(resized_images)\n",
    "resized_images.shape"
   ]
  },
  {
   "cell_type": "code",
   "execution_count": null,
   "metadata": {
    "execution": {
     "iopub.execute_input": "2024-03-25T04:12:41.779400Z",
     "iopub.status.busy": "2024-03-25T04:12:41.779026Z",
     "iopub.status.idle": "2024-03-25T04:12:41.808783Z",
     "shell.execute_reply": "2024-03-25T04:12:41.807639Z",
     "shell.execute_reply.started": "2024-03-25T04:12:41.779372Z"
    }
   },
   "outputs": [],
   "source": [
    "gt_df"
   ]
  },
  {
   "cell_type": "code",
   "execution_count": null,
   "metadata": {
    "execution": {
     "iopub.execute_input": "2024-03-25T04:12:44.818955Z",
     "iopub.status.busy": "2024-03-25T04:12:44.818571Z",
     "iopub.status.idle": "2024-03-25T04:12:44.826809Z",
     "shell.execute_reply": "2024-03-25T04:12:44.825740Z",
     "shell.execute_reply.started": "2024-03-25T04:12:44.818923Z"
    }
   },
   "outputs": [],
   "source": [
    "y = gt_df[['P', 'K', 'Mg', 'pH']]\n",
    "y = y[:650]\n",
    "y.shape"
   ]
  },
  {
   "cell_type": "markdown",
   "metadata": {},
   "source": [
    "## Function for Residual Plots"
   ]
  },
  {
   "cell_type": "code",
   "execution_count": 16,
   "metadata": {
    "execution": {
     "iopub.execute_input": "2024-03-25T19:43:49.096437Z",
     "iopub.status.busy": "2024-03-25T19:43:49.096145Z",
     "iopub.status.idle": "2024-03-25T19:43:49.106674Z",
     "shell.execute_reply": "2024-03-25T19:43:49.105453Z",
     "shell.execute_reply.started": "2024-03-25T19:43:49.096412Z"
    }
   },
   "outputs": [],
   "source": [
    "def resi(y_test, y_pred):\n",
    "    residuals = y_test - y_pred\n",
    "\n",
    "    # Plot residuals\n",
    "    plt.figure(figsize=(8, 6))\n",
    "    plt.scatter(y_pred, residuals, color='blue', alpha=0.5)\n",
    "    plt.axhline(y=0, color='red', linestyle='--')\n",
    "    plt.title('Residual Plot')\n",
    "    plt.xlabel('Predicted Values')\n",
    "    plt.ylabel('Residuals')\n",
    "    plt.grid(True)\n",
    "    plt.show()\n",
    "    \n",
    "    # Residuals vs. Fitted Values plot\n",
    "    plt.figure(figsize=(10, 5))\n",
    "    plt.scatter(y_pred, residuals, alpha=0.5)\n",
    "    plt.title('Residuals vs. Fitted Values')\n",
    "    plt.xlabel('Fitted Values')\n",
    "    plt.ylabel('Residuals')\n",
    "    plt.axhline(y=0, color='r', linestyle='-')  # Add horizontal line at y=0\n",
    "    plt.grid(True)\n",
    "    plt.show()\n",
    "\n",
    "    # Normal Q-Q plot\n",
    "    plt.figure(figsize=(10, 5))\n",
    "    stats.probplot(residuals, dist=\"norm\", plot=plt)\n",
    "    plt.title('Normal Q-Q Plot')\n",
    "    plt.xlabel('Theoretical Quantiles')\n",
    "    plt.ylabel('Standardized Residuals')\n",
    "    plt.grid(True)\n",
    "    plt.show()"
   ]
  },
  {
   "cell_type": "markdown",
   "metadata": {},
   "source": [
    "## Function for Normality Tests"
   ]
  },
  {
   "cell_type": "code",
   "execution_count": 17,
   "metadata": {
    "execution": {
     "iopub.execute_input": "2024-03-25T19:43:49.108403Z",
     "iopub.status.busy": "2024-03-25T19:43:49.108082Z",
     "iopub.status.idle": "2024-03-25T19:43:49.489326Z",
     "shell.execute_reply": "2024-03-25T19:43:49.488429Z",
     "shell.execute_reply.started": "2024-03-25T19:43:49.108364Z"
    }
   },
   "outputs": [],
   "source": [
    "from scipy import stats\n",
    "from sklearn.metrics import mean_squared_error\n",
    "\n",
    "def tests(residuals, std_err):\n",
    "    # Shapiro-Wilk Normality Test\n",
    "    shapiro_test_statistic, shapiro_p_value = stats.shapiro(residuals/std_err)\n",
    "    print(\"Shapiro-Wilk Test:\")\n",
    "    print(\"Test Statistic:\", shapiro_test_statistic)\n",
    "    print(\"p-value:\", shapiro_p_value)\n",
    "    if shapiro_p_value < 0.05:\n",
    "        print(\"Null hypothesis (residuals are normally distributed) rejected.\")\n",
    "    else:\n",
    "        print(\"Null hypothesis (residuals are normally distributed) not rejected.\")\n",
    "\n",
    "    # Anderson-Darling Normality Test\n",
    "    anderson_test_statistic, anderson_critical_values, anderson_significance_levels = stats.anderson(residuals/std_err)\n",
    "    print(\"\\nAnderson-Darling Test:\")\n",
    "    print(\"Test Statistic:\", anderson_test_statistic)\n",
    "    print(\"Critical Values:\", anderson_critical_values)\n",
    "    if anderson_test_statistic > anderson_critical_values[2]:\n",
    "        print(\"Null hypothesis (residuals are normally distributed) rejected.\")\n",
    "    else:\n",
    "        print(\"Null hypothesis (residuals are normally distributed) not rejected.\")\n",
    "\n",
    "    # Cramer Von Mises Normality Test\n",
    "    cvm = stats.cramervonmises(residuals/std_err, 'norm')\n",
    "    cvm_test_statistic = cvm.statistic\n",
    "    cvm_p_value = cvm.pvalue\n",
    "    print(\"\\nCramer Von Mises Test:\")\n",
    "    print(\"Test Statistic:\", cvm_test_statistic)\n",
    "    print(\"p-value:\", cvm_p_value)\n",
    "    if cvm_p_value < 0.05:\n",
    "        print(\"Null hypothesis (residuals are normally distributed) rejected.\")\n",
    "    else:\n",
    "        print(\"Null hypothesis (residuals are normally distributed) not rejected.\")\n",
    "\n",
    "    # Kolmogorov-Smirnov Normality Test\n",
    "    ks_test_statistic, ks_p_value = stats.kstest(residuals/std_err, 'norm')\n",
    "    print(\"\\nKolmogorov-Smirnov Test:\")\n",
    "    print(\"Test Statistic:\", ks_test_statistic)\n",
    "    print(\"p-value:\", ks_p_value)\n",
    "    if ks_p_value < 0.05:\n",
    "        print(\"Null hypothesis (residuals are normally distributed) rejected.\")\n",
    "    else:\n",
    "        print(\"Null hypothesis (residuals are normally distributed) not rejected.\")\n",
    "\n",
    "    # Shapiro Francia Normality Test\n",
    "    shapiro_francia_test_statistic, shapiro_francia_p_value = stats.shapiro(residuals/std_err)\n",
    "    print(\"\\nShapiro Francia Test:\")\n",
    "    print(\"Test Statistic:\", shapiro_francia_test_statistic)\n",
    "    print(\"p-value:\", shapiro_francia_p_value)\n",
    "    if shapiro_francia_p_value < 0.05:\n",
    "        print(\"Null hypothesis (residuals are normally distributed) rejected.\")\n",
    "    else:\n",
    "        print(\"Null hypothesis (residuals are normally distributed) not rejected.\")\n",
    "    "
   ]
  },
  {
   "cell_type": "markdown",
   "metadata": {},
   "source": [
    "## Train Test Split\n",
    "Try shuffling"
   ]
  },
  {
   "cell_type": "code",
   "execution_count": 18,
   "metadata": {
    "execution": {
     "iopub.execute_input": "2024-03-25T19:43:49.490799Z",
     "iopub.status.busy": "2024-03-25T19:43:49.490495Z",
     "iopub.status.idle": "2024-03-25T19:43:50.359537Z",
     "shell.execute_reply": "2024-03-25T19:43:50.358495Z",
     "shell.execute_reply.started": "2024-03-25T19:43:49.490772Z"
    }
   },
   "outputs": [],
   "source": [
    "from sklearn.model_selection import train_test_split\n",
    "train_images, val_images, train_labels, val_labels = train_test_split(resized_images, y, test_size=0.2, random_state=42, shuffle=True)"
   ]
  },
  {
   "cell_type": "code",
   "execution_count": 22,
   "metadata": {
    "execution": {
     "iopub.execute_input": "2024-03-25T19:16:31.323877Z",
     "iopub.status.busy": "2024-03-25T19:16:31.323364Z",
     "iopub.status.idle": "2024-03-25T19:16:31.327665Z",
     "shell.execute_reply": "2024-03-25T19:16:31.327069Z",
     "shell.execute_reply.started": "2024-03-25T19:16:31.323847Z"
    }
   },
   "outputs": [
    {
     "name": "stdout",
     "output_type": "stream",
     "text": [
      "(58717, 11, 11, 150) (58717, 4)\n"
     ]
    }
   ],
   "source": [
    "print(train_images.shape, train_labels.shape)"
   ]
  },
  {
   "cell_type": "code",
   "execution_count": 23,
   "metadata": {
    "execution": {
     "iopub.execute_input": "2024-03-25T19:16:31.328621Z",
     "iopub.status.busy": "2024-03-25T19:16:31.328403Z",
     "iopub.status.idle": "2024-03-25T19:16:31.339302Z",
     "shell.execute_reply": "2024-03-25T19:16:31.338710Z",
     "shell.execute_reply.started": "2024-03-25T19:16:31.328597Z"
    }
   },
   "outputs": [
    {
     "name": "stdout",
     "output_type": "stream",
     "text": [
      "(14680, 11, 11, 150) (14680, 4)\n"
     ]
    }
   ],
   "source": [
    "print(val_images.shape, val_labels.shape)"
   ]
  },
  {
   "cell_type": "markdown",
   "metadata": {},
   "source": [
    "## Architechture 1 - only CNN"
   ]
  },
  {
   "cell_type": "code",
   "execution_count": 20,
   "metadata": {
    "execution": {
     "iopub.execute_input": "2024-03-25T19:29:30.791567Z",
     "iopub.status.busy": "2024-03-25T19:29:30.791236Z",
     "iopub.status.idle": "2024-03-25T19:30:34.109094Z",
     "shell.execute_reply": "2024-03-25T19:30:34.107899Z",
     "shell.execute_reply.started": "2024-03-25T19:29:30.791539Z"
    }
   },
   "outputs": [
    {
     "name": "stdout",
     "output_type": "stream",
     "text": [
      "Epoch 1/100\n",
      "\u001b[1m  66/1835\u001b[0m \u001b[37m━━━━━━━━━━━━━━━━━━━━\u001b[0m \u001b[1m4s\u001b[0m 2ms/step - loss: 50575.4375  "
     ]
    },
    {
     "name": "stderr",
     "output_type": "stream",
     "text": [
      "WARNING: All log messages before absl::InitializeLog() is called are written to STDERR\n",
      "I0000 00:00:1711394981.718062     526 device_compiler.h:186] Compiled cluster using XLA!  This line is logged at most once for the lifetime of the process.\n"
     ]
    },
    {
     "name": "stdout",
     "output_type": "stream",
     "text": [
      "\u001b[1m1835/1835\u001b[0m \u001b[32m━━━━━━━━━━━━━━━━━━━━\u001b[0m\u001b[37m\u001b[0m \u001b[1m14s\u001b[0m 5ms/step - loss: 17810.7383 - val_loss: 4217.8457\n",
      "Epoch 2/100\n",
      "\u001b[1m1835/1835\u001b[0m \u001b[32m━━━━━━━━━━━━━━━━━━━━\u001b[0m\u001b[37m\u001b[0m \u001b[1m5s\u001b[0m 3ms/step - loss: 4298.1987 - val_loss: 4212.9321\n",
      "Epoch 3/100\n",
      "\u001b[1m1835/1835\u001b[0m \u001b[32m━━━━━━━━━━━━━━━━━━━━\u001b[0m\u001b[37m\u001b[0m \u001b[1m5s\u001b[0m 3ms/step - loss: 4194.5474 - val_loss: 4217.1841\n",
      "Epoch 4/100\n",
      "\u001b[1m1835/1835\u001b[0m \u001b[32m━━━━━━━━━━━━━━━━━━━━\u001b[0m\u001b[37m\u001b[0m \u001b[1m5s\u001b[0m 3ms/step - loss: 4200.5723 - val_loss: 4214.6919\n",
      "Epoch 5/100\n",
      "\u001b[1m1835/1835\u001b[0m \u001b[32m━━━━━━━━━━━━━━━━━━━━\u001b[0m\u001b[37m\u001b[0m \u001b[1m5s\u001b[0m 3ms/step - loss: 4169.6377 - val_loss: 4211.7891\n",
      "Epoch 6/100\n",
      "\u001b[1m1835/1835\u001b[0m \u001b[32m━━━━━━━━━━━━━━━━━━━━\u001b[0m\u001b[37m\u001b[0m \u001b[1m5s\u001b[0m 3ms/step - loss: 4118.3477 - val_loss: 4212.3584\n",
      "Epoch 7/100\n",
      "\u001b[1m1835/1835\u001b[0m \u001b[32m━━━━━━━━━━━━━━━━━━━━\u001b[0m\u001b[37m\u001b[0m \u001b[1m5s\u001b[0m 3ms/step - loss: 4253.5947 - val_loss: 4213.4434\n",
      "Epoch 8/100\n",
      "\u001b[1m1835/1835\u001b[0m \u001b[32m━━━━━━━━━━━━━━━━━━━━\u001b[0m\u001b[37m\u001b[0m \u001b[1m5s\u001b[0m 3ms/step - loss: 4160.7983 - val_loss: 4212.2822\n",
      "Epoch 9/100\n",
      "\u001b[1m1835/1835\u001b[0m \u001b[32m━━━━━━━━━━━━━━━━━━━━\u001b[0m\u001b[37m\u001b[0m \u001b[1m5s\u001b[0m 3ms/step - loss: 4189.6470 - val_loss: 4212.4756\n",
      "Epoch 10/100\n",
      "\u001b[1m1835/1835\u001b[0m \u001b[32m━━━━━━━━━━━━━━━━━━━━\u001b[0m\u001b[37m\u001b[0m \u001b[1m5s\u001b[0m 3ms/step - loss: 4160.1206 - val_loss: 4224.5376\n"
     ]
    }
   ],
   "source": [
    "inputs = tf.keras.Input(shape=(11, 11, 150))\n",
    "x = tf.keras.layers.Conv2D(filters=16, kernel_size=(2, 2), activation='tanh')(inputs)\n",
    "x = tf.keras.layers.MaxPool2D()(x)\n",
    "x = tf.keras.layers.Conv2D(filters=32, kernel_size=(2, 2), activation='sigmoid')(x)\n",
    "x = tf.keras.layers.MaxPool2D()(x)\n",
    "x = tf.keras.layers.GlobalAveragePooling2D()(x)\n",
    "x = tf.keras.layers.Dense(64, activation='elu')(x)\n",
    "# x = tf.keras.layers.Dropout(0.5)(x)  # Add dropout for regularization\n",
    "# ouputs = tf.keras.layers.Dense(64, activation='elu')(x)\n",
    "# x = tf.keras.layers.Dropout(0.5)(x)  # Add dropout for regularization\n",
    "outputs = tf.keras.layers.Dense(1, activation='linear')(x)\n",
    "\n",
    "model = tf.keras.Model(inputs=inputs, outputs=outputs)\n",
    "\n",
    "model.compile(\n",
    "    optimizer='adam',\n",
    "    loss='mse',\n",
    ")\n",
    "\n",
    "history = model.fit(\n",
    "    train_images,\n",
    "    train_labels['K'],\n",
    "    validation_data=(val_images, val_labels['K']),\n",
    "    epochs=100,\n",
    "    callbacks=[\n",
    "        tf.keras.callbacks.EarlyStopping(\n",
    "            monitor='val_loss',\n",
    "            patience=5,\n",
    "            restore_best_weights=True\n",
    "        )\n",
    "    ]\n",
    ")"
   ]
  },
  {
   "cell_type": "code",
   "execution_count": 20,
   "metadata": {
    "execution": {
     "iopub.execute_input": "2024-03-25T19:24:45.634089Z",
     "iopub.status.busy": "2024-03-25T19:24:45.632829Z",
     "iopub.status.idle": "2024-03-25T19:24:46.365618Z",
     "shell.execute_reply": "2024-03-25T19:24:46.364543Z",
     "shell.execute_reply.started": "2024-03-25T19:24:45.634051Z"
    }
   },
   "outputs": [
    {
     "data": {
      "image/png": "[encoded data removed]",
      "text/plain": [
       "<IPython.core.display.Image object>"
      ]
     },
     "execution_count": 20,
     "metadata": {},
     "output_type": "execute_result"
    }
   ],
   "source": [
    "from tensorflow.keras.utils import plot_model\n",
    "\n",
    "# Assuming you have defined your model as 'model' in your code\n",
    "\n",
    "# Save the visualization to a file\n",
    "plot_model(model, to_file='model_architecture.png', show_shapes=True, show_layer_names=True)"
   ]
  },
  {
   "cell_type": "code",
   "execution_count": 22,
   "metadata": {
    "execution": {
     "iopub.execute_input": "2024-03-25T19:31:06.538351Z",
     "iopub.status.busy": "2024-03-25T19:31:06.537269Z",
     "iopub.status.idle": "2024-03-25T19:31:15.510494Z",
     "shell.execute_reply": "2024-03-25T19:31:15.509326Z",
     "shell.execute_reply.started": "2024-03-25T19:31:06.538290Z"
    }
   },
   "outputs": [
    {
     "name": "stdout",
     "output_type": "stream",
     "text": [
      "\u001b[1m1835/1835\u001b[0m \u001b[32m━━━━━━━━━━━━━━━━━━━━\u001b[0m\u001b[37m\u001b[0m \u001b[1m3s\u001b[0m 2ms/step\n",
      "Train R^2 Score: -0.00006202297396806777\n"
     ]
    }
   ],
   "source": [
    "from sklearn.metrics import r2_score\n",
    "predicted_labels = model.predict(train_images)\n",
    "\n",
    "# Calculate R^2 score\n",
    "r2 = r2_score(train_labels['K'], predicted_labels)\n",
    "\n",
    "print(\"Train R^2 Score: {:.20f}\".format(r2))"
   ]
  },
  {
   "cell_type": "code",
   "execution_count": null,
   "metadata": {
    "execution": {
     "iopub.execute_input": "2024-03-25T19:39:04.557558Z",
     "iopub.status.busy": "2024-03-25T19:39:04.556601Z"
    }
   },
   "outputs": [],
   "source": [
    "residuals = train_labels['K'] - predicted_labels\n",
    "\n",
    "mse = mean_squared_error(train_labels['K'], predicted_labels)\n",
    "std_err = np.sqrt(mse / (train_images.shape[0] - train_images.shape[1] - 1))\n",
    "\n",
    "tests(residuals, std_err)\n",
    "resi(train_labels['K'], predicted_labels)"
   ]
  },
  {
   "cell_type": "code",
   "execution_count": 23,
   "metadata": {
    "execution": {
     "iopub.execute_input": "2024-03-25T19:31:45.630750Z",
     "iopub.status.busy": "2024-03-25T19:31:45.629670Z",
     "iopub.status.idle": "2024-03-25T19:31:48.226081Z",
     "shell.execute_reply": "2024-03-25T19:31:48.224982Z",
     "shell.execute_reply.started": "2024-03-25T19:31:45.630713Z"
    }
   },
   "outputs": [
    {
     "name": "stdout",
     "output_type": "stream",
     "text": [
      "\u001b[1m459/459\u001b[0m \u001b[32m━━━━━━━━━━━━━━━━━━━━\u001b[0m\u001b[37m\u001b[0m \u001b[1m1s\u001b[0m 2ms/step\n",
      "Validation R^2 Score: -0.00005601550152189994\n"
     ]
    }
   ],
   "source": [
    "predicted_labels = model.predict(val_images)\n",
    "\n",
    "# Calculate R^2 score\n",
    "r2 = r2_score(val_labels['K'], predicted_labels)\n",
    "\n",
    "print(\"Validation R^2 Score: {:.20f}\".format(r2))"
   ]
  },
  {
   "cell_type": "code",
   "execution_count": 2,
   "metadata": {
    "execution": {
     "iopub.execute_input": "2024-03-25T19:39:29.524672Z",
     "iopub.status.busy": "2024-03-25T19:39:29.524314Z",
     "iopub.status.idle": "2024-03-25T19:39:29.529358Z",
     "shell.execute_reply": "2024-03-25T19:39:29.528280Z",
     "shell.execute_reply.started": "2024-03-25T19:39:29.524645Z"
    }
   },
   "outputs": [],
   "source": [
    "residuals = val_labels['K'].values - predicted_labels\n",
    "\n",
    "mse = mean_squared_error(val_labels['K'].values, predicted_labels)\n",
    "std_err = np.sqrt(mse / (val_images.shape[0] - val_images.shape[1] - 1))\n",
    "\n",
    "# tests(residuals, std_err)\n",
    "resi(val_labels['K'].values, predicted_labels)"
   ]
  },
  {
   "cell_type": "code",
   "execution_count": null,
   "metadata": {
    "execution": {
     "iopub.status.busy": "2024-03-20T13:41:20.960928Z",
     "iopub.status.idle": "2024-03-20T13:41:20.961397Z",
     "shell.execute_reply": "2024-03-20T13:41:20.961167Z",
     "shell.execute_reply.started": "2024-03-20T13:41:20.961147Z"
    }
   },
   "outputs": [],
   "source": [
    "# import autokeras as ak\n",
    "\n",
    "# # Initialize ImageClassifier\n",
    "# clf = ak.ImageClassifier(overwrite=True, max_trials=10)\n",
    "\n",
    "# # Train the classifier\n",
    "# clf.fit(train_images, train_labels)\n",
    "\n",
    "# # Evaluate the classifier\n",
    "# accuracy = clf.evaluate(val_images, val_labels)\n",
    "# print('Validation accuracy:', accuracy)"
   ]
  },
  {
   "cell_type": "code",
   "execution_count": null,
   "metadata": {
    "execution": {
     "iopub.execute_input": "2024-03-20T07:25:45.519507Z",
     "iopub.status.busy": "2024-03-20T07:25:45.518614Z",
     "iopub.status.idle": "2024-03-20T07:25:45.524194Z",
     "shell.execute_reply": "2024-03-20T07:25:45.523139Z",
     "shell.execute_reply.started": "2024-03-20T07:25:45.519471Z"
    }
   },
   "outputs": [],
   "source": [
    "# import tensorflow as tf\n",
    "# from tensorflow.keras import layers, models\n",
    "\n",
    "# def custom_cnn(input_shape):\n",
    "#     model = models.Sequential([\n",
    "#         layers.Conv2D(32, (3, 3), activation='relu', input_shape=input_shape),\n",
    "#         layers.MaxPooling2D((2, 2)),\n",
    "#         layers.Conv2D(64, (3, 3), activation='relu'),\n",
    "#         layers.MaxPooling2D((2, 2)),\n",
    "#         layers.Conv2D(64, (3, 3), activation='relu'),\n",
    "#         layers.Flatten(),\n",
    "#         layers.Dense(128, activation='relu')\n",
    "#     ])\n",
    "#     return model\n",
    "\n",
    "# input_shape = (11, 11, 150)\n",
    "# custom_cnn_model = custom_cnn(input_shape)\n",
    "\n",
    "# # Remove the output layer (classifier)\n",
    "# # feature_extractor = models.Model(inputs=custom_cnn_model.input, outputs=custom_cnn_model.layers[-2].output)\n",
    "# features_train = feature_extractor.predict(train_images_array)\n"
   ]
  },
  {
   "cell_type": "markdown",
   "metadata": {},
   "source": [
    "## Architechture 2 - Only CNN"
   ]
  },
  {
   "cell_type": "code",
   "execution_count": null,
   "metadata": {
    "execution": {
     "iopub.execute_input": "2024-03-24T18:18:25.661379Z",
     "iopub.status.busy": "2024-03-24T18:18:25.660930Z",
     "iopub.status.idle": "2024-03-24T18:19:01.464169Z",
     "shell.execute_reply": "2024-03-24T18:19:01.462842Z",
     "shell.execute_reply.started": "2024-03-24T18:18:25.661347Z"
    }
   },
   "outputs": [],
   "source": [
    "from sklearn.metrics import r2_score\n",
    "from tensorflow.keras import layers, models\n",
    "\n",
    "# Define the CNN model\n",
    "def create_cnn_model(input_shape):\n",
    "    model = models.Sequential()\n",
    "    model.add(layers.Conv2D(32, kernel_size=(3, 3), activation='relu', input_shape=input_shape))\n",
    "    model.add(layers.MaxPooling2D(pool_size=(2, 2)))\n",
    "    model.add(layers.Conv2D(64, kernel_size=(3, 3), activation='relu'))\n",
    "    model.add(layers.MaxPooling2D(pool_size=(2, 2)))\n",
    "#     model.add(layers.Conv2D(128, kernel_size=(2, 2), activation='relu'))\n",
    "#     model.add(layers.MaxPooling2D(pool_size=(2, 2)))\n",
    "    model.add(layers.Flatten())\n",
    "    model.add(layers.Dense(128, activation='relu'))\n",
    "    model.add(layers.Dropout(0.5))\n",
    "    model.add(layers.Dense(1, activation='linear')) \n",
    "    return model\n",
    "\n",
    "# Create the CNN model\n",
    "input_shape = (11, 11, 150)  # Shape of each image\n",
    "cnn_model = create_cnn_model(input_shape)\n",
    "\n",
    "# Compile the model\n",
    "cnn_model.compile(optimizer='adam', loss='mean_squared_error', metrics=['mae'])\n",
    "\n",
    "# Train the model\n",
    "history = cnn_model.fit(train_images, train_labels['K'], epochs=100, batch_size=32, validation_split=0.1)\n",
    "\n",
    "# Evaluate the model on validation data\n",
    "test_loss, test_mae = cnn_model.evaluate(val_images, val_labels['K'])\n",
    "print(f'Test Loss: {test_loss}, Test MAE: {test_mae}')\n",
    "\n",
    "# Predict labels for validation data\n",
    "predicted_labels = cnn_model.predict(val_images)\n",
    "\n",
    "# Calculate R^2 score\n",
    "r2 = r2_score(val_labels['K'], predicted_labels)\n",
    "print(\"Validation R^2 Score:\", r2)"
   ]
  },
  {
   "cell_type": "markdown",
   "metadata": {},
   "source": [
    "## Architechture 3 - CNN + Linear Regression"
   ]
  },
  {
   "cell_type": "code",
   "execution_count": 19,
   "metadata": {
    "execution": {
     "iopub.execute_input": "2024-03-25T19:43:50.363332Z",
     "iopub.status.busy": "2024-03-25T19:43:50.363008Z",
     "iopub.status.idle": "2024-03-25T19:52:19.709129Z",
     "shell.execute_reply": "2024-03-25T19:52:19.708062Z",
     "shell.execute_reply.started": "2024-03-25T19:43:50.363303Z"
    }
   },
   "outputs": [
    {
     "name": "stdout",
     "output_type": "stream",
     "text": [
      "Epoch 1/100\n",
      "\u001b[1m  74/1835\u001b[0m \u001b[37m━━━━━━━━━━━━━━━━━━━━\u001b[0m \u001b[1m3s\u001b[0m 2ms/step - loss: 75550.5391  "
     ]
    },
    {
     "name": "stderr",
     "output_type": "stream",
     "text": [
      "WARNING: All log messages before absl::InitializeLog() is called are written to STDERR\n",
      "I0000 00:00:1711395841.781337     972 device_compiler.h:186] Compiled cluster using XLA!  This line is logged at most once for the lifetime of the process.\n"
     ]
    },
    {
     "name": "stdout",
     "output_type": "stream",
     "text": [
      "\u001b[1m1835/1835\u001b[0m \u001b[32m━━━━━━━━━━━━━━━━━━━━\u001b[0m\u001b[37m\u001b[0m \u001b[1m13s\u001b[0m 4ms/step - loss: 29592.1133 - val_loss: 22547.9062\n",
      "Epoch 2/100\n",
      "\u001b[1m1835/1835\u001b[0m \u001b[32m━━━━━━━━━━━━━━━━━━━━\u001b[0m\u001b[37m\u001b[0m \u001b[1m5s\u001b[0m 3ms/step - loss: 21696.6016 - val_loss: 20160.8730\n",
      "Epoch 3/100\n",
      "\u001b[1m1835/1835\u001b[0m \u001b[32m━━━━━━━━━━━━━━━━━━━━\u001b[0m\u001b[37m\u001b[0m \u001b[1m5s\u001b[0m 3ms/step - loss: 18980.0273 - val_loss: 14692.7920\n",
      "Epoch 4/100\n",
      "\u001b[1m1835/1835\u001b[0m \u001b[32m━━━━━━━━━━━━━━━━━━━━\u001b[0m\u001b[37m\u001b[0m \u001b[1m5s\u001b[0m 3ms/step - loss: 14304.1387 - val_loss: 9818.7725\n",
      "Epoch 5/100\n",
      "\u001b[1m1835/1835\u001b[0m \u001b[32m━━━━━━━━━━━━━━━━━━━━\u001b[0m\u001b[37m\u001b[0m \u001b[1m5s\u001b[0m 3ms/step - loss: 8759.6504 - val_loss: 8806.3291\n",
      "Epoch 6/100\n",
      "\u001b[1m1835/1835\u001b[0m \u001b[32m━━━━━━━━━━━━━━━━━━━━\u001b[0m\u001b[37m\u001b[0m \u001b[1m5s\u001b[0m 3ms/step - loss: 5088.0015 - val_loss: 4212.2002\n",
      "Epoch 7/100\n",
      "\u001b[1m1835/1835\u001b[0m \u001b[32m━━━━━━━━━━━━━━━━━━━━\u001b[0m\u001b[37m\u001b[0m \u001b[1m5s\u001b[0m 3ms/step - loss: 4187.2739 - val_loss: 4211.8096\n",
      "Epoch 8/100\n",
      "\u001b[1m1835/1835\u001b[0m \u001b[32m━━━━━━━━━━━━━━━━━━━━\u001b[0m\u001b[37m\u001b[0m \u001b[1m5s\u001b[0m 3ms/step - loss: 4147.1582 - val_loss: 4212.0928\n",
      "Epoch 9/100\n",
      "\u001b[1m1835/1835\u001b[0m \u001b[32m━━━━━━━━━━━━━━━━━━━━\u001b[0m\u001b[37m\u001b[0m \u001b[1m5s\u001b[0m 3ms/step - loss: 4216.0059 - val_loss: 4211.8345\n",
      "Epoch 10/100\n",
      "\u001b[1m1835/1835\u001b[0m \u001b[32m━━━━━━━━━━━━━━━━━━━━\u001b[0m\u001b[37m\u001b[0m \u001b[1m5s\u001b[0m 3ms/step - loss: 4179.9756 - val_loss: 4229.1069\n",
      "Epoch 11/100\n",
      "\u001b[1m1835/1835\u001b[0m \u001b[32m━━━━━━━━━━━━━━━━━━━━\u001b[0m\u001b[37m\u001b[0m \u001b[1m5s\u001b[0m 3ms/step - loss: 4226.8174 - val_loss: 4213.8979\n",
      "Epoch 12/100\n",
      "\u001b[1m1835/1835\u001b[0m \u001b[32m━━━━━━━━━━━━━━━━━━━━\u001b[0m\u001b[37m\u001b[0m \u001b[1m5s\u001b[0m 3ms/step - loss: 4198.3555 - val_loss: 4213.3477\n",
      "Epoch 13/100\n",
      "\u001b[1m1835/1835\u001b[0m \u001b[32m━━━━━━━━━━━━━━━━━━━━\u001b[0m\u001b[37m\u001b[0m \u001b[1m5s\u001b[0m 3ms/step - loss: 4121.7490 - val_loss: 4224.4746\n",
      "Epoch 14/100\n",
      "\u001b[1m1835/1835\u001b[0m \u001b[32m━━━━━━━━━━━━━━━━━━━━\u001b[0m\u001b[37m\u001b[0m \u001b[1m5s\u001b[0m 3ms/step - loss: 4202.3862 - val_loss: 4214.6387\n",
      "Epoch 15/100\n",
      "\u001b[1m1835/1835\u001b[0m \u001b[32m━━━━━━━━━━━━━━━━━━━━\u001b[0m\u001b[37m\u001b[0m \u001b[1m5s\u001b[0m 3ms/step - loss: 4215.1963 - val_loss: 4222.9604\n",
      "Epoch 16/100\n",
      "\u001b[1m1835/1835\u001b[0m \u001b[32m━━━━━━━━━━━━━━━━━━━━\u001b[0m\u001b[37m\u001b[0m \u001b[1m5s\u001b[0m 3ms/step - loss: 4167.3477 - val_loss: 4212.7896\n",
      "Epoch 17/100\n",
      "\u001b[1m1835/1835\u001b[0m \u001b[32m━━━━━━━━━━━━━━━━━━━━\u001b[0m\u001b[37m\u001b[0m \u001b[1m5s\u001b[0m 3ms/step - loss: 4218.1953 - val_loss: 4212.7466\n",
      "Epoch 18/100\n",
      "\u001b[1m1835/1835\u001b[0m \u001b[32m━━━━━━━━━━━━━━━━━━━━\u001b[0m\u001b[37m\u001b[0m \u001b[1m5s\u001b[0m 3ms/step - loss: 4224.8276 - val_loss: 4211.8062\n",
      "Epoch 19/100\n",
      "\u001b[1m1835/1835\u001b[0m \u001b[32m━━━━━━━━━━━━━━━━━━━━\u001b[0m\u001b[37m\u001b[0m \u001b[1m5s\u001b[0m 3ms/step - loss: 4226.1099 - val_loss: 4212.0444\n",
      "Epoch 20/100\n",
      "\u001b[1m1835/1835\u001b[0m \u001b[32m━━━━━━━━━━━━━━━━━━━━\u001b[0m\u001b[37m\u001b[0m \u001b[1m5s\u001b[0m 3ms/step - loss: 4181.4272 - val_loss: 4212.5195\n",
      "Epoch 21/100\n",
      "\u001b[1m1835/1835\u001b[0m \u001b[32m━━━━━━━━━━━━━━━━━━━━\u001b[0m\u001b[37m\u001b[0m \u001b[1m5s\u001b[0m 3ms/step - loss: 4235.1880 - val_loss: 4211.8584\n",
      "Epoch 22/100\n",
      "\u001b[1m1835/1835\u001b[0m \u001b[32m━━━━━━━━━━━━━━━━━━━━\u001b[0m\u001b[37m\u001b[0m \u001b[1m5s\u001b[0m 3ms/step - loss: 4233.1338 - val_loss: 4211.8037\n",
      "Epoch 23/100\n",
      "\u001b[1m1835/1835\u001b[0m \u001b[32m━━━━━━━━━━━━━━━━━━━━\u001b[0m\u001b[37m\u001b[0m \u001b[1m5s\u001b[0m 3ms/step - loss: 4220.7012 - val_loss: 4212.9697\n",
      "Epoch 24/100\n",
      "\u001b[1m1835/1835\u001b[0m \u001b[32m━━━━━━━━━━━━━━━━━━━━\u001b[0m\u001b[37m\u001b[0m \u001b[1m5s\u001b[0m 3ms/step - loss: 4199.3999 - val_loss: 4214.3140\n",
      "Epoch 25/100\n",
      "\u001b[1m1835/1835\u001b[0m \u001b[32m━━━━━━━━━━━━━━━━━━━━\u001b[0m\u001b[37m\u001b[0m \u001b[1m5s\u001b[0m 3ms/step - loss: 4157.6504 - val_loss: 4213.5972\n",
      "Epoch 26/100\n",
      "\u001b[1m1835/1835\u001b[0m \u001b[32m━━━━━━━━━━━━━━━━━━━━\u001b[0m\u001b[37m\u001b[0m \u001b[1m5s\u001b[0m 3ms/step - loss: 4232.4023 - val_loss: 4211.8545\n",
      "Epoch 27/100\n",
      "\u001b[1m1835/1835\u001b[0m \u001b[32m━━━━━━━━━━━━━━━━━━━━\u001b[0m\u001b[37m\u001b[0m \u001b[1m5s\u001b[0m 3ms/step - loss: 4209.0518 - val_loss: 4211.8564\n",
      "Epoch 28/100\n",
      "\u001b[1m1835/1835\u001b[0m \u001b[32m━━━━━━━━━━━━━━━━━━━━\u001b[0m\u001b[37m\u001b[0m \u001b[1m5s\u001b[0m 3ms/step - loss: 4215.1294 - val_loss: 4211.9922\n",
      "Epoch 29/100\n",
      "\u001b[1m1835/1835\u001b[0m \u001b[32m━━━━━━━━━━━━━━━━━━━━\u001b[0m\u001b[37m\u001b[0m \u001b[1m5s\u001b[0m 3ms/step - loss: 4234.3545 - val_loss: 4212.3687\n",
      "Epoch 30/100\n",
      "\u001b[1m1835/1835\u001b[0m \u001b[32m━━━━━━━━━━━━━━━━━━━━\u001b[0m\u001b[37m\u001b[0m \u001b[1m5s\u001b[0m 3ms/step - loss: 4208.0947 - val_loss: 4212.6265\n",
      "Epoch 31/100\n",
      "\u001b[1m1835/1835\u001b[0m \u001b[32m━━━━━━━━━━━━━━━━━━━━\u001b[0m\u001b[37m\u001b[0m \u001b[1m5s\u001b[0m 3ms/step - loss: 4198.9341 - val_loss: 4212.1401\n",
      "Epoch 32/100\n",
      "\u001b[1m1835/1835\u001b[0m \u001b[32m━━━━━━━━━━━━━━━━━━━━\u001b[0m\u001b[37m\u001b[0m \u001b[1m5s\u001b[0m 3ms/step - loss: 4262.2539 - val_loss: 4211.9414\n",
      "Epoch 33/100\n",
      "\u001b[1m1835/1835\u001b[0m \u001b[32m━━━━━━━━━━━━━━━━━━━━\u001b[0m\u001b[37m\u001b[0m \u001b[1m5s\u001b[0m 3ms/step - loss: 4217.9302 - val_loss: 4212.8281\n",
      "Epoch 34/100\n",
      "\u001b[1m1835/1835\u001b[0m \u001b[32m━━━━━━━━━━━━━━━━━━━━\u001b[0m\u001b[37m\u001b[0m \u001b[1m5s\u001b[0m 3ms/step - loss: 4272.6235 - val_loss: 4211.8081\n",
      "Epoch 35/100\n",
      "\u001b[1m1835/1835\u001b[0m \u001b[32m━━━━━━━━━━━━━━━━━━━━\u001b[0m\u001b[37m\u001b[0m \u001b[1m5s\u001b[0m 3ms/step - loss: 4165.4121 - val_loss: 4215.6685\n",
      "Epoch 36/100\n",
      "\u001b[1m1835/1835\u001b[0m \u001b[32m━━━━━━━━━━━━━━━━━━━━\u001b[0m\u001b[37m\u001b[0m \u001b[1m5s\u001b[0m 3ms/step - loss: 4242.3760 - val_loss: 4215.7490\n",
      "Epoch 37/100\n",
      "\u001b[1m1835/1835\u001b[0m \u001b[32m━━━━━━━━━━━━━━━━━━━━\u001b[0m\u001b[37m\u001b[0m \u001b[1m5s\u001b[0m 3ms/step - loss: 4210.0879 - val_loss: 4213.2036\n",
      "Epoch 38/100\n",
      "\u001b[1m1835/1835\u001b[0m \u001b[32m━━━━━━━━━━━━━━━━━━━━\u001b[0m\u001b[37m\u001b[0m \u001b[1m5s\u001b[0m 3ms/step - loss: 4232.2422 - val_loss: 4211.8311\n",
      "Epoch 39/100\n",
      "\u001b[1m1835/1835\u001b[0m \u001b[32m━━━━━━━━━━━━━━━━━━━━\u001b[0m\u001b[37m\u001b[0m \u001b[1m5s\u001b[0m 3ms/step - loss: 4243.5601 - val_loss: 4212.8184\n",
      "Epoch 40/100\n",
      "\u001b[1m1835/1835\u001b[0m \u001b[32m━━━━━━━━━━━━━━━━━━━━\u001b[0m\u001b[37m\u001b[0m \u001b[1m5s\u001b[0m 3ms/step - loss: 4284.1592 - val_loss: 4213.7598\n",
      "Epoch 41/100\n",
      "\u001b[1m1835/1835\u001b[0m \u001b[32m━━━━━━━━━━━━━━━━━━━━\u001b[0m\u001b[37m\u001b[0m \u001b[1m5s\u001b[0m 3ms/step - loss: 4201.7354 - val_loss: 4214.2793\n",
      "Epoch 42/100\n",
      "\u001b[1m1835/1835\u001b[0m \u001b[32m━━━━━━━━━━━━━━━━━━━━\u001b[0m\u001b[37m\u001b[0m \u001b[1m5s\u001b[0m 3ms/step - loss: 4231.3071 - val_loss: 4212.7588\n",
      "Epoch 43/100\n",
      "\u001b[1m1835/1835\u001b[0m \u001b[32m━━━━━━━━━━━━━━━━━━━━\u001b[0m\u001b[37m\u001b[0m \u001b[1m5s\u001b[0m 3ms/step - loss: 4202.7402 - val_loss: 4211.9531\n",
      "Epoch 44/100\n",
      "\u001b[1m1835/1835\u001b[0m \u001b[32m━━━━━━━━━━━━━━━━━━━━\u001b[0m\u001b[37m\u001b[0m \u001b[1m5s\u001b[0m 3ms/step - loss: 4204.8169 - val_loss: 4212.9390\n",
      "Epoch 45/100\n",
      "\u001b[1m1835/1835\u001b[0m \u001b[32m━━━━━━━━━━━━━━━━━━━━\u001b[0m\u001b[37m\u001b[0m \u001b[1m5s\u001b[0m 3ms/step - loss: 4186.9966 - val_loss: 4215.7065\n",
      "Epoch 46/100\n",
      "\u001b[1m1835/1835\u001b[0m \u001b[32m━━━━━━━━━━━━━━━━━━━━\u001b[0m\u001b[37m\u001b[0m \u001b[1m5s\u001b[0m 3ms/step - loss: 4262.7217 - val_loss: 4213.0078\n",
      "Epoch 47/100\n",
      "\u001b[1m1835/1835\u001b[0m \u001b[32m━━━━━━━━━━━━━━━━━━━━\u001b[0m\u001b[37m\u001b[0m \u001b[1m5s\u001b[0m 3ms/step - loss: 4211.6260 - val_loss: 4212.7290\n",
      "Epoch 48/100\n",
      "\u001b[1m1835/1835\u001b[0m \u001b[32m━━━━━━━━━━━━━━━━━━━━\u001b[0m\u001b[37m\u001b[0m \u001b[1m5s\u001b[0m 3ms/step - loss: 4164.6152 - val_loss: 4219.9443\n",
      "Epoch 49/100\n",
      "\u001b[1m1835/1835\u001b[0m \u001b[32m━━━━━━━━━━━━━━━━━━━━\u001b[0m\u001b[37m\u001b[0m \u001b[1m5s\u001b[0m 3ms/step - loss: 4237.6587 - val_loss: 4212.1191\n",
      "Epoch 50/100\n",
      "\u001b[1m1835/1835\u001b[0m \u001b[32m━━━━━━━━━━━━━━━━━━━━\u001b[0m\u001b[37m\u001b[0m \u001b[1m5s\u001b[0m 3ms/step - loss: 4224.7954 - val_loss: 4216.7891\n",
      "Epoch 51/100\n",
      "\u001b[1m1835/1835\u001b[0m \u001b[32m━━━━━━━━━━━━━━━━━━━━\u001b[0m\u001b[37m\u001b[0m \u001b[1m5s\u001b[0m 3ms/step - loss: 4156.1113 - val_loss: 4219.5396\n",
      "Epoch 52/100\n",
      "\u001b[1m1835/1835\u001b[0m \u001b[32m━━━━━━━━━━━━━━━━━━━━\u001b[0m\u001b[37m\u001b[0m \u001b[1m5s\u001b[0m 3ms/step - loss: 4172.4404 - val_loss: 4215.6079\n",
      "Epoch 53/100\n",
      "\u001b[1m1835/1835\u001b[0m \u001b[32m━━━━━━━━━━━━━━━━━━━━\u001b[0m\u001b[37m\u001b[0m \u001b[1m5s\u001b[0m 3ms/step - loss: 4181.1416 - val_loss: 4212.5181\n",
      "Epoch 54/100\n",
      "\u001b[1m1835/1835\u001b[0m \u001b[32m━━━━━━━━━━━━━━━━━━━━\u001b[0m\u001b[37m\u001b[0m \u001b[1m5s\u001b[0m 3ms/step - loss: 4192.2134 - val_loss: 4213.5977\n",
      "Epoch 55/100\n",
      "\u001b[1m1835/1835\u001b[0m \u001b[32m━━━━━━━━━━━━━━━━━━━━\u001b[0m\u001b[37m\u001b[0m \u001b[1m5s\u001b[0m 3ms/step - loss: 4244.2437 - val_loss: 4212.3628\n",
      "Epoch 56/100\n",
      "\u001b[1m1835/1835\u001b[0m \u001b[32m━━━━━━━━━━━━━━━━━━━━\u001b[0m\u001b[37m\u001b[0m \u001b[1m5s\u001b[0m 3ms/step - loss: 4300.4653 - val_loss: 4212.1255\n",
      "Epoch 57/100\n",
      "\u001b[1m1835/1835\u001b[0m \u001b[32m━━━━━━━━━━━━━━━━━━━━\u001b[0m\u001b[37m\u001b[0m \u001b[1m5s\u001b[0m 3ms/step - loss: 4178.0186 - val_loss: 4213.2427\n",
      "Epoch 58/100\n",
      "\u001b[1m1835/1835\u001b[0m \u001b[32m━━━━━━━━━━━━━━━━━━━━\u001b[0m\u001b[37m\u001b[0m \u001b[1m5s\u001b[0m 3ms/step - loss: 4212.0596 - val_loss: 4214.6348\n",
      "Epoch 59/100\n",
      "\u001b[1m1835/1835\u001b[0m \u001b[32m━━━━━━━━━━━━━━━━━━━━\u001b[0m\u001b[37m\u001b[0m \u001b[1m5s\u001b[0m 3ms/step - loss: 4182.5703 - val_loss: 4213.5972\n",
      "Epoch 60/100\n",
      "\u001b[1m1835/1835\u001b[0m \u001b[32m━━━━━━━━━━━━━━━━━━━━\u001b[0m\u001b[37m\u001b[0m \u001b[1m5s\u001b[0m 3ms/step - loss: 4208.9473 - val_loss: 4217.8203\n",
      "Epoch 61/100\n",
      "\u001b[1m1835/1835\u001b[0m \u001b[32m━━━━━━━━━━━━━━━━━━━━\u001b[0m\u001b[37m\u001b[0m \u001b[1m5s\u001b[0m 3ms/step - loss: 4187.7593 - val_loss: 4221.5557\n",
      "Epoch 62/100\n",
      "\u001b[1m1835/1835\u001b[0m \u001b[32m━━━━━━━━━━━━━━━━━━━━\u001b[0m\u001b[37m\u001b[0m \u001b[1m5s\u001b[0m 3ms/step - loss: 4233.7485 - val_loss: 4225.5884\n",
      "Epoch 63/100\n",
      "\u001b[1m1835/1835\u001b[0m \u001b[32m━━━━━━━━━━━━━━━━━━━━\u001b[0m\u001b[37m\u001b[0m \u001b[1m5s\u001b[0m 3ms/step - loss: 4212.8560 - val_loss: 4216.8564\n",
      "Epoch 64/100\n",
      "\u001b[1m1835/1835\u001b[0m \u001b[32m━━━━━━━━━━━━━━━━━━━━\u001b[0m\u001b[37m\u001b[0m \u001b[1m5s\u001b[0m 3ms/step - loss: 4188.0244 - val_loss: 4214.5854\n",
      "Epoch 65/100\n",
      "\u001b[1m1835/1835\u001b[0m \u001b[32m━━━━━━━━━━━━━━━━━━━━\u001b[0m\u001b[37m\u001b[0m \u001b[1m5s\u001b[0m 3ms/step - loss: 4211.6284 - val_loss: 4215.7134\n",
      "Epoch 66/100\n",
      "\u001b[1m1835/1835\u001b[0m \u001b[32m━━━━━━━━━━━━━━━━━━━━\u001b[0m\u001b[37m\u001b[0m \u001b[1m5s\u001b[0m 3ms/step - loss: 4160.9824 - val_loss: 4213.9263\n",
      "Epoch 67/100\n",
      "\u001b[1m1835/1835\u001b[0m \u001b[32m━━━━━━━━━━━━━━━━━━━━\u001b[0m\u001b[37m\u001b[0m \u001b[1m5s\u001b[0m 3ms/step - loss: 4197.0679 - val_loss: 4211.8008\n",
      "Epoch 68/100\n",
      "\u001b[1m1835/1835\u001b[0m \u001b[32m━━━━━━━━━━━━━━━━━━━━\u001b[0m\u001b[37m\u001b[0m \u001b[1m5s\u001b[0m 3ms/step - loss: 4208.3652 - val_loss: 4213.1523\n",
      "Epoch 69/100\n",
      "\u001b[1m1835/1835\u001b[0m \u001b[32m━━━━━━━━━━━━━━━━━━━━\u001b[0m\u001b[37m\u001b[0m \u001b[1m5s\u001b[0m 3ms/step - loss: 4204.1606 - val_loss: 4219.1763\n",
      "Epoch 70/100\n",
      "\u001b[1m1835/1835\u001b[0m \u001b[32m━━━━━━━━━━━━━━━━━━━━\u001b[0m\u001b[37m\u001b[0m \u001b[1m5s\u001b[0m 3ms/step - loss: 4160.9321 - val_loss: 4212.4663\n",
      "Epoch 71/100\n",
      "\u001b[1m1835/1835\u001b[0m \u001b[32m━━━━━━━━━━━━━━━━━━━━\u001b[0m\u001b[37m\u001b[0m \u001b[1m5s\u001b[0m 3ms/step - loss: 4169.0312 - val_loss: 4215.6792\n",
      "Epoch 72/100\n",
      "\u001b[1m1835/1835\u001b[0m \u001b[32m━━━━━━━━━━━━━━━━━━━━\u001b[0m\u001b[37m\u001b[0m \u001b[1m5s\u001b[0m 3ms/step - loss: 4209.2788 - val_loss: 4212.5449\n",
      "Epoch 73/100\n",
      "\u001b[1m1835/1835\u001b[0m \u001b[32m━━━━━━━━━━━━━━━━━━━━\u001b[0m\u001b[37m\u001b[0m \u001b[1m5s\u001b[0m 3ms/step - loss: 4177.9136 - val_loss: 4220.6187\n",
      "Epoch 74/100\n",
      "\u001b[1m1835/1835\u001b[0m \u001b[32m━━━━━━━━━━━━━━━━━━━━\u001b[0m\u001b[37m\u001b[0m \u001b[1m5s\u001b[0m 3ms/step - loss: 4231.6606 - val_loss: 4212.7544\n",
      "Epoch 75/100\n",
      "\u001b[1m1835/1835\u001b[0m \u001b[32m━━━━━━━━━━━━━━━━━━━━\u001b[0m\u001b[37m\u001b[0m \u001b[1m5s\u001b[0m 3ms/step - loss: 4204.0293 - val_loss: 4212.5444\n",
      "Epoch 76/100\n",
      "\u001b[1m1835/1835\u001b[0m \u001b[32m━━━━━━━━━━━━━━━━━━━━\u001b[0m\u001b[37m\u001b[0m \u001b[1m5s\u001b[0m 3ms/step - loss: 4217.3472 - val_loss: 4213.1992\n",
      "Epoch 77/100\n",
      "\u001b[1m1835/1835\u001b[0m \u001b[32m━━━━━━━━━━━━━━━━━━━━\u001b[0m\u001b[37m\u001b[0m \u001b[1m5s\u001b[0m 3ms/step - loss: 4197.5938 - val_loss: 4214.2427\n",
      "Epoch 78/100\n",
      "\u001b[1m1835/1835\u001b[0m \u001b[32m━━━━━━━━━━━━━━━━━━━━\u001b[0m\u001b[37m\u001b[0m \u001b[1m5s\u001b[0m 3ms/step - loss: 4265.7437 - val_loss: 4211.9790\n",
      "Epoch 79/100\n",
      "\u001b[1m1835/1835\u001b[0m \u001b[32m━━━━━━━━━━━━━━━━━━━━\u001b[0m\u001b[37m\u001b[0m \u001b[1m5s\u001b[0m 3ms/step - loss: 4264.8374 - val_loss: 4211.8125\n",
      "Epoch 80/100\n",
      "\u001b[1m1835/1835\u001b[0m \u001b[32m━━━━━━━━━━━━━━━━━━━━\u001b[0m\u001b[37m\u001b[0m \u001b[1m5s\u001b[0m 3ms/step - loss: 4211.6919 - val_loss: 4211.8657\n",
      "Epoch 81/100\n",
      "\u001b[1m1835/1835\u001b[0m \u001b[32m━━━━━━━━━━━━━━━━━━━━\u001b[0m\u001b[37m\u001b[0m \u001b[1m5s\u001b[0m 3ms/step - loss: 4193.5923 - val_loss: 4212.8013\n",
      "Epoch 82/100\n",
      "\u001b[1m1835/1835\u001b[0m \u001b[32m━━━━━━━━━━━━━━━━━━━━\u001b[0m\u001b[37m\u001b[0m \u001b[1m5s\u001b[0m 3ms/step - loss: 4185.6934 - val_loss: 4213.0229\n",
      "Epoch 83/100\n",
      "\u001b[1m1835/1835\u001b[0m \u001b[32m━━━━━━━━━━━━━━━━━━━━\u001b[0m\u001b[37m\u001b[0m \u001b[1m5s\u001b[0m 3ms/step - loss: 4180.1616 - val_loss: 4226.7314\n",
      "Epoch 84/100\n",
      "\u001b[1m1835/1835\u001b[0m \u001b[32m━━━━━━━━━━━━━━━━━━━━\u001b[0m\u001b[37m\u001b[0m \u001b[1m5s\u001b[0m 3ms/step - loss: 4193.6572 - val_loss: 4212.3125\n",
      "Epoch 85/100\n",
      "\u001b[1m1835/1835\u001b[0m \u001b[32m━━━━━━━━━━━━━━━━━━━━\u001b[0m\u001b[37m\u001b[0m \u001b[1m5s\u001b[0m 3ms/step - loss: 4235.5864 - val_loss: 4212.2930\n",
      "Epoch 86/100\n",
      "\u001b[1m1835/1835\u001b[0m \u001b[32m━━━━━━━━━━━━━━━━━━━━\u001b[0m\u001b[37m\u001b[0m \u001b[1m5s\u001b[0m 3ms/step - loss: 4216.3008 - val_loss: 4213.6152\n",
      "Epoch 87/100\n",
      "\u001b[1m1835/1835\u001b[0m \u001b[32m━━━━━━━━━━━━━━━━━━━━\u001b[0m\u001b[37m\u001b[0m \u001b[1m5s\u001b[0m 3ms/step - loss: 4171.3735 - val_loss: 4214.6265\n",
      "Epoch 88/100\n",
      "\u001b[1m1835/1835\u001b[0m \u001b[32m━━━━━━━━━━━━━━━━━━━━\u001b[0m\u001b[37m\u001b[0m \u001b[1m5s\u001b[0m 3ms/step - loss: 4293.7129 - val_loss: 4219.4209\n",
      "Epoch 89/100\n",
      "\u001b[1m1835/1835\u001b[0m \u001b[32m━━━━━━━━━━━━━━━━━━━━\u001b[0m\u001b[37m\u001b[0m \u001b[1m5s\u001b[0m 3ms/step - loss: 4160.7905 - val_loss: 4212.3911\n",
      "Epoch 90/100\n",
      "\u001b[1m1835/1835\u001b[0m \u001b[32m━━━━━━━━━━━━━━━━━━━━\u001b[0m\u001b[37m\u001b[0m \u001b[1m5s\u001b[0m 3ms/step - loss: 4277.3071 - val_loss: 4216.2534\n",
      "Epoch 91/100\n",
      "\u001b[1m1835/1835\u001b[0m \u001b[32m━━━━━━━━━━━━━━━━━━━━\u001b[0m\u001b[37m\u001b[0m \u001b[1m5s\u001b[0m 3ms/step - loss: 4297.4932 - val_loss: 4214.2622\n",
      "Epoch 92/100\n",
      "\u001b[1m1835/1835\u001b[0m \u001b[32m━━━━━━━━━━━━━━━━━━━━\u001b[0m\u001b[37m\u001b[0m \u001b[1m5s\u001b[0m 3ms/step - loss: 4254.9429 - val_loss: 4212.9429\n",
      "Epoch 93/100\n",
      "\u001b[1m1835/1835\u001b[0m \u001b[32m━━━━━━━━━━━━━━━━━━━━\u001b[0m\u001b[37m\u001b[0m \u001b[1m5s\u001b[0m 3ms/step - loss: 4237.2910 - val_loss: 4213.2739\n",
      "Epoch 94/100\n",
      "\u001b[1m1835/1835\u001b[0m \u001b[32m━━━━━━━━━━━━━━━━━━━━\u001b[0m\u001b[37m\u001b[0m \u001b[1m5s\u001b[0m 3ms/step - loss: 4240.3296 - val_loss: 4214.2427\n",
      "Epoch 95/100\n",
      "\u001b[1m1835/1835\u001b[0m \u001b[32m━━━━━━━━━━━━━━━━━━━━\u001b[0m\u001b[37m\u001b[0m \u001b[1m5s\u001b[0m 3ms/step - loss: 4226.8574 - val_loss: 4212.4165\n",
      "Epoch 96/100\n",
      "\u001b[1m1835/1835\u001b[0m \u001b[32m━━━━━━━━━━━━━━━━━━━━\u001b[0m\u001b[37m\u001b[0m \u001b[1m5s\u001b[0m 3ms/step - loss: 4202.5439 - val_loss: 4223.9707\n",
      "Epoch 97/100\n",
      "\u001b[1m1835/1835\u001b[0m \u001b[32m━━━━━━━━━━━━━━━━━━━━\u001b[0m\u001b[37m\u001b[0m \u001b[1m5s\u001b[0m 3ms/step - loss: 4198.7471 - val_loss: 4211.9053\n",
      "Epoch 98/100\n",
      "\u001b[1m1835/1835\u001b[0m \u001b[32m━━━━━━━━━━━━━━━━━━━━\u001b[0m\u001b[37m\u001b[0m \u001b[1m5s\u001b[0m 3ms/step - loss: 4222.5889 - val_loss: 4221.5347\n",
      "Epoch 99/100\n",
      "\u001b[1m1835/1835\u001b[0m \u001b[32m━━━━━━━━━━━━━━━━━━━━\u001b[0m\u001b[37m\u001b[0m \u001b[1m5s\u001b[0m 3ms/step - loss: 4216.1055 - val_loss: 4212.0239\n",
      "Epoch 100/100\n",
      "\u001b[1m1835/1835\u001b[0m \u001b[32m━━━━━━━━━━━━━━━━━━━━\u001b[0m\u001b[37m\u001b[0m \u001b[1m5s\u001b[0m 3ms/step - loss: 4179.8433 - val_loss: 4211.8677\n"
     ]
    },
    {
     "data": {
      "text/plain": [
       "<keras.src.callbacks.history.History at 0x7e2cdeae3760>"
      ]
     },
     "execution_count": 19,
     "metadata": {},
     "output_type": "execute_result"
    }
   ],
   "source": [
    "import tensorflow as tf\n",
    "from tensorflow.keras.models import Sequential\n",
    "from tensorflow.keras.layers import Conv2D, MaxPooling2D, Flatten, Dense\n",
    "from sklearn.metrics import r2_score\n",
    "\n",
    "# Define the CNN architecture\n",
    "model = Sequential([\n",
    "    Conv2D(32, (2, 2), activation='relu', input_shape=(11, 11, 150)),\n",
    "    MaxPooling2D((2, 2)),\n",
    "    Conv2D(64, (2, 2), activation='relu'),\n",
    "    MaxPooling2D((2, 2)),\n",
    "#     Conv2D(64, (3, 3), activation='relu'),\n",
    "    Flatten(),\n",
    "    Dense(64, activation='relu'),\n",
    "#     Dense(1, activation='linear')  # Output layer with one unit for regression\n",
    "])\n",
    "\n",
    "# Compile the model\n",
    "model.compile(optimizer='adam', loss='mean_squared_error')\n",
    "\n",
    "# Train the model\n",
    "model.fit(train_images, train_labels['K'], epochs=100, batch_size=32, validation_data=(val_images, val_labels['K']))\n",
    "\n",
    "# # Evaluate the model\n",
    "# test_loss = model.evaluate(val_images, val_labels['K'])\n",
    "# print(\"Test Loss:\", test_loss)\n",
    "\n",
    "# predicted_labels = model.predict(val_images)\n",
    "\n",
    "# # Calculate R^2 score\n",
    "# r2 = r2_score(val_labels['K'], predicted_labels)\n",
    "# print(\"Validation R^2 Score:\", r2)"
   ]
  },
  {
   "cell_type": "markdown",
   "metadata": {},
   "source": [
    "## Feature Extraction"
   ]
  },
  {
   "cell_type": "code",
   "execution_count": 20,
   "metadata": {
    "execution": {
     "iopub.execute_input": "2024-03-25T19:52:19.710876Z",
     "iopub.status.busy": "2024-03-25T19:52:19.710535Z",
     "iopub.status.idle": "2024-03-25T19:52:32.311139Z",
     "shell.execute_reply": "2024-03-25T19:52:32.309884Z",
     "shell.execute_reply.started": "2024-03-25T19:52:19.710845Z"
    }
   },
   "outputs": [
    {
     "name": "stdout",
     "output_type": "stream",
     "text": [
      "\u001b[1m1835/1835\u001b[0m \u001b[32m━━━━━━━━━━━━━━━━━━━━\u001b[0m\u001b[37m\u001b[0m \u001b[1m4s\u001b[0m 2ms/step\n",
      "\u001b[1m459/459\u001b[0m \u001b[32m━━━━━━━━━━━━━━━━━━━━\u001b[0m\u001b[37m\u001b[0m \u001b[1m1s\u001b[0m 2ms/step\n",
      "(58717, 64) (14680, 64)\n"
     ]
    }
   ],
   "source": [
    "feature_extractor = model\n",
    "features_train = feature_extractor.predict(train_images)\n",
    "features_val = feature_extractor.predict(val_images)\n",
    "\n",
    "print(features_train.shape, features_val.shape)"
   ]
  },
  {
   "cell_type": "code",
   "execution_count": 21,
   "metadata": {
    "execution": {
     "iopub.execute_input": "2024-03-25T19:52:32.313074Z",
     "iopub.status.busy": "2024-03-25T19:52:32.312713Z",
     "iopub.status.idle": "2024-03-25T19:52:32.318967Z",
     "shell.execute_reply": "2024-03-25T19:52:32.317810Z",
     "shell.execute_reply.started": "2024-03-25T19:52:32.313045Z"
    }
   },
   "outputs": [],
   "source": [
    "features_train_df = pd.DataFrame(features_train)\n",
    "features_val_df = pd.DataFrame(features_val)"
   ]
  },
  {
   "cell_type": "code",
   "execution_count": 22,
   "metadata": {
    "execution": {
     "iopub.execute_input": "2024-03-25T19:52:32.320727Z",
     "iopub.status.busy": "2024-03-25T19:52:32.320359Z",
     "iopub.status.idle": "2024-03-25T19:52:32.371489Z",
     "shell.execute_reply": "2024-03-25T19:52:32.370371Z",
     "shell.execute_reply.started": "2024-03-25T19:52:32.320698Z"
    }
   },
   "outputs": [
    {
     "data": {
      "text/html": [
       "<div>\n",
       "<style scoped>\n",
       "    .dataframe tbody tr th:only-of-type {\n",
       "        vertical-align: middle;\n",
       "    }\n",
       "\n",
       "    .dataframe tbody tr th {\n",
       "        vertical-align: top;\n",
       "    }\n",
       "\n",
       "    .dataframe thead th {\n",
       "        text-align: right;\n",
       "    }\n",
       "</style>\n",
       "<table border=\"1\" class=\"dataframe\">\n",
       "  <thead>\n",
       "    <tr style=\"text-align: right;\">\n",
       "      <th></th>\n",
       "      <th>0</th>\n",
       "      <th>1</th>\n",
       "      <th>2</th>\n",
       "      <th>3</th>\n",
       "      <th>4</th>\n",
       "      <th>5</th>\n",
       "      <th>6</th>\n",
       "      <th>7</th>\n",
       "      <th>8</th>\n",
       "      <th>9</th>\n",
       "      <th>...</th>\n",
       "      <th>54</th>\n",
       "      <th>55</th>\n",
       "      <th>56</th>\n",
       "      <th>57</th>\n",
       "      <th>58</th>\n",
       "      <th>59</th>\n",
       "      <th>60</th>\n",
       "      <th>61</th>\n",
       "      <th>62</th>\n",
       "      <th>63</th>\n",
       "    </tr>\n",
       "  </thead>\n",
       "  <tbody>\n",
       "    <tr>\n",
       "      <th>0</th>\n",
       "      <td>224.469742</td>\n",
       "      <td>224.472229</td>\n",
       "      <td>224.472183</td>\n",
       "      <td>224.448822</td>\n",
       "      <td>224.442352</td>\n",
       "      <td>224.454163</td>\n",
       "      <td>224.475235</td>\n",
       "      <td>224.461899</td>\n",
       "      <td>224.467117</td>\n",
       "      <td>224.474274</td>\n",
       "      <td>...</td>\n",
       "      <td>224.46611</td>\n",
       "      <td>224.470016</td>\n",
       "      <td>224.459167</td>\n",
       "      <td>224.469299</td>\n",
       "      <td>224.473618</td>\n",
       "      <td>224.471802</td>\n",
       "      <td>224.463287</td>\n",
       "      <td>224.450516</td>\n",
       "      <td>224.457916</td>\n",
       "      <td>224.450714</td>\n",
       "    </tr>\n",
       "    <tr>\n",
       "      <th>1</th>\n",
       "      <td>224.469742</td>\n",
       "      <td>224.472229</td>\n",
       "      <td>224.472183</td>\n",
       "      <td>224.448822</td>\n",
       "      <td>224.442352</td>\n",
       "      <td>224.454163</td>\n",
       "      <td>224.475235</td>\n",
       "      <td>224.461899</td>\n",
       "      <td>224.467117</td>\n",
       "      <td>224.474274</td>\n",
       "      <td>...</td>\n",
       "      <td>224.46611</td>\n",
       "      <td>224.470016</td>\n",
       "      <td>224.459167</td>\n",
       "      <td>224.469299</td>\n",
       "      <td>224.473618</td>\n",
       "      <td>224.471802</td>\n",
       "      <td>224.463287</td>\n",
       "      <td>224.450516</td>\n",
       "      <td>224.457916</td>\n",
       "      <td>224.450714</td>\n",
       "    </tr>\n",
       "    <tr>\n",
       "      <th>2</th>\n",
       "      <td>224.469742</td>\n",
       "      <td>224.472229</td>\n",
       "      <td>224.472183</td>\n",
       "      <td>224.448822</td>\n",
       "      <td>224.442352</td>\n",
       "      <td>224.454163</td>\n",
       "      <td>224.475235</td>\n",
       "      <td>224.461899</td>\n",
       "      <td>224.467117</td>\n",
       "      <td>224.474274</td>\n",
       "      <td>...</td>\n",
       "      <td>224.46611</td>\n",
       "      <td>224.470016</td>\n",
       "      <td>224.459167</td>\n",
       "      <td>224.469299</td>\n",
       "      <td>224.473618</td>\n",
       "      <td>224.471802</td>\n",
       "      <td>224.463287</td>\n",
       "      <td>224.450516</td>\n",
       "      <td>224.457916</td>\n",
       "      <td>224.450714</td>\n",
       "    </tr>\n",
       "    <tr>\n",
       "      <th>3</th>\n",
       "      <td>224.469742</td>\n",
       "      <td>224.472229</td>\n",
       "      <td>224.472183</td>\n",
       "      <td>224.448822</td>\n",
       "      <td>224.442352</td>\n",
       "      <td>224.454163</td>\n",
       "      <td>224.475235</td>\n",
       "      <td>224.461899</td>\n",
       "      <td>224.467117</td>\n",
       "      <td>224.474274</td>\n",
       "      <td>...</td>\n",
       "      <td>224.46611</td>\n",
       "      <td>224.470016</td>\n",
       "      <td>224.459167</td>\n",
       "      <td>224.469299</td>\n",
       "      <td>224.473618</td>\n",
       "      <td>224.471802</td>\n",
       "      <td>224.463287</td>\n",
       "      <td>224.450516</td>\n",
       "      <td>224.457916</td>\n",
       "      <td>224.450714</td>\n",
       "    </tr>\n",
       "    <tr>\n",
       "      <th>4</th>\n",
       "      <td>224.469742</td>\n",
       "      <td>224.472229</td>\n",
       "      <td>224.472183</td>\n",
       "      <td>224.448822</td>\n",
       "      <td>224.442352</td>\n",
       "      <td>224.454163</td>\n",
       "      <td>224.475235</td>\n",
       "      <td>224.461899</td>\n",
       "      <td>224.467117</td>\n",
       "      <td>224.474274</td>\n",
       "      <td>...</td>\n",
       "      <td>224.46611</td>\n",
       "      <td>224.470016</td>\n",
       "      <td>224.459167</td>\n",
       "      <td>224.469299</td>\n",
       "      <td>224.473618</td>\n",
       "      <td>224.471802</td>\n",
       "      <td>224.463287</td>\n",
       "      <td>224.450516</td>\n",
       "      <td>224.457916</td>\n",
       "      <td>224.450714</td>\n",
       "    </tr>\n",
       "    <tr>\n",
       "      <th>...</th>\n",
       "      <td>...</td>\n",
       "      <td>...</td>\n",
       "      <td>...</td>\n",
       "      <td>...</td>\n",
       "      <td>...</td>\n",
       "      <td>...</td>\n",
       "      <td>...</td>\n",
       "      <td>...</td>\n",
       "      <td>...</td>\n",
       "      <td>...</td>\n",
       "      <td>...</td>\n",
       "      <td>...</td>\n",
       "      <td>...</td>\n",
       "      <td>...</td>\n",
       "      <td>...</td>\n",
       "      <td>...</td>\n",
       "      <td>...</td>\n",
       "      <td>...</td>\n",
       "      <td>...</td>\n",
       "      <td>...</td>\n",
       "      <td>...</td>\n",
       "    </tr>\n",
       "    <tr>\n",
       "      <th>14675</th>\n",
       "      <td>224.469742</td>\n",
       "      <td>224.472229</td>\n",
       "      <td>224.472183</td>\n",
       "      <td>224.448822</td>\n",
       "      <td>224.442352</td>\n",
       "      <td>224.454163</td>\n",
       "      <td>224.475235</td>\n",
       "      <td>224.461899</td>\n",
       "      <td>224.467117</td>\n",
       "      <td>224.474274</td>\n",
       "      <td>...</td>\n",
       "      <td>224.46611</td>\n",
       "      <td>224.470016</td>\n",
       "      <td>224.459167</td>\n",
       "      <td>224.469299</td>\n",
       "      <td>224.473618</td>\n",
       "      <td>224.471802</td>\n",
       "      <td>224.463287</td>\n",
       "      <td>224.450516</td>\n",
       "      <td>224.457916</td>\n",
       "      <td>224.450714</td>\n",
       "    </tr>\n",
       "    <tr>\n",
       "      <th>14676</th>\n",
       "      <td>224.469742</td>\n",
       "      <td>224.472229</td>\n",
       "      <td>224.472183</td>\n",
       "      <td>224.448822</td>\n",
       "      <td>224.442352</td>\n",
       "      <td>224.454163</td>\n",
       "      <td>224.475235</td>\n",
       "      <td>224.461899</td>\n",
       "      <td>224.467117</td>\n",
       "      <td>224.474274</td>\n",
       "      <td>...</td>\n",
       "      <td>224.46611</td>\n",
       "      <td>224.470016</td>\n",
       "      <td>224.459167</td>\n",
       "      <td>224.469299</td>\n",
       "      <td>224.473618</td>\n",
       "      <td>224.471802</td>\n",
       "      <td>224.463287</td>\n",
       "      <td>224.450516</td>\n",
       "      <td>224.457916</td>\n",
       "      <td>224.450714</td>\n",
       "    </tr>\n",
       "    <tr>\n",
       "      <th>14677</th>\n",
       "      <td>224.469742</td>\n",
       "      <td>224.472229</td>\n",
       "      <td>224.472183</td>\n",
       "      <td>224.448822</td>\n",
       "      <td>224.442352</td>\n",
       "      <td>224.454163</td>\n",
       "      <td>224.475235</td>\n",
       "      <td>224.461899</td>\n",
       "      <td>224.467117</td>\n",
       "      <td>224.474274</td>\n",
       "      <td>...</td>\n",
       "      <td>224.46611</td>\n",
       "      <td>224.470016</td>\n",
       "      <td>224.459167</td>\n",
       "      <td>224.469299</td>\n",
       "      <td>224.473618</td>\n",
       "      <td>224.471802</td>\n",
       "      <td>224.463287</td>\n",
       "      <td>224.450516</td>\n",
       "      <td>224.457916</td>\n",
       "      <td>224.450714</td>\n",
       "    </tr>\n",
       "    <tr>\n",
       "      <th>14678</th>\n",
       "      <td>224.469742</td>\n",
       "      <td>224.472229</td>\n",
       "      <td>224.472183</td>\n",
       "      <td>224.448822</td>\n",
       "      <td>224.442352</td>\n",
       "      <td>224.454163</td>\n",
       "      <td>224.475235</td>\n",
       "      <td>224.461899</td>\n",
       "      <td>224.467117</td>\n",
       "      <td>224.474274</td>\n",
       "      <td>...</td>\n",
       "      <td>224.46611</td>\n",
       "      <td>224.470016</td>\n",
       "      <td>224.459167</td>\n",
       "      <td>224.469299</td>\n",
       "      <td>224.473618</td>\n",
       "      <td>224.471802</td>\n",
       "      <td>224.463287</td>\n",
       "      <td>224.450516</td>\n",
       "      <td>224.457916</td>\n",
       "      <td>224.450714</td>\n",
       "    </tr>\n",
       "    <tr>\n",
       "      <th>14679</th>\n",
       "      <td>224.469742</td>\n",
       "      <td>224.472229</td>\n",
       "      <td>224.472183</td>\n",
       "      <td>224.448822</td>\n",
       "      <td>224.442352</td>\n",
       "      <td>224.454163</td>\n",
       "      <td>224.475235</td>\n",
       "      <td>224.461899</td>\n",
       "      <td>224.467117</td>\n",
       "      <td>224.474274</td>\n",
       "      <td>...</td>\n",
       "      <td>224.46611</td>\n",
       "      <td>224.470016</td>\n",
       "      <td>224.459167</td>\n",
       "      <td>224.469299</td>\n",
       "      <td>224.473618</td>\n",
       "      <td>224.471802</td>\n",
       "      <td>224.463287</td>\n",
       "      <td>224.450516</td>\n",
       "      <td>224.457916</td>\n",
       "      <td>224.450714</td>\n",
       "    </tr>\n",
       "  </tbody>\n",
       "</table>\n",
       "<p>14680 rows × 64 columns</p>\n",
       "</div>"
      ],
      "text/plain": [
       "               0           1           2           3           4           5   \\\n",
       "0      224.469742  224.472229  224.472183  224.448822  224.442352  224.454163   \n",
       "1      224.469742  224.472229  224.472183  224.448822  224.442352  224.454163   \n",
       "2      224.469742  224.472229  224.472183  224.448822  224.442352  224.454163   \n",
       "3      224.469742  224.472229  224.472183  224.448822  224.442352  224.454163   \n",
       "4      224.469742  224.472229  224.472183  224.448822  224.442352  224.454163   \n",
       "...           ...         ...         ...         ...         ...         ...   \n",
       "14675  224.469742  224.472229  224.472183  224.448822  224.442352  224.454163   \n",
       "14676  224.469742  224.472229  224.472183  224.448822  224.442352  224.454163   \n",
       "14677  224.469742  224.472229  224.472183  224.448822  224.442352  224.454163   \n",
       "14678  224.469742  224.472229  224.472183  224.448822  224.442352  224.454163   \n",
       "14679  224.469742  224.472229  224.472183  224.448822  224.442352  224.454163   \n",
       "\n",
       "               6           7           8           9   ...         54  \\\n",
       "0      224.475235  224.461899  224.467117  224.474274  ...  224.46611   \n",
       "1      224.475235  224.461899  224.467117  224.474274  ...  224.46611   \n",
       "2      224.475235  224.461899  224.467117  224.474274  ...  224.46611   \n",
       "3      224.475235  224.461899  224.467117  224.474274  ...  224.46611   \n",
       "4      224.475235  224.461899  224.467117  224.474274  ...  224.46611   \n",
       "...           ...         ...         ...         ...  ...        ...   \n",
       "14675  224.475235  224.461899  224.467117  224.474274  ...  224.46611   \n",
       "14676  224.475235  224.461899  224.467117  224.474274  ...  224.46611   \n",
       "14677  224.475235  224.461899  224.467117  224.474274  ...  224.46611   \n",
       "14678  224.475235  224.461899  224.467117  224.474274  ...  224.46611   \n",
       "14679  224.475235  224.461899  224.467117  224.474274  ...  224.46611   \n",
       "\n",
       "               55          56          57          58          59          60  \\\n",
       "0      224.470016  224.459167  224.469299  224.473618  224.471802  224.463287   \n",
       "1      224.470016  224.459167  224.469299  224.473618  224.471802  224.463287   \n",
       "2      224.470016  224.459167  224.469299  224.473618  224.471802  224.463287   \n",
       "3      224.470016  224.459167  224.469299  224.473618  224.471802  224.463287   \n",
       "4      224.470016  224.459167  224.469299  224.473618  224.471802  224.463287   \n",
       "...           ...         ...         ...         ...         ...         ...   \n",
       "14675  224.470016  224.459167  224.469299  224.473618  224.471802  224.463287   \n",
       "14676  224.470016  224.459167  224.469299  224.473618  224.471802  224.463287   \n",
       "14677  224.470016  224.459167  224.469299  224.473618  224.471802  224.463287   \n",
       "14678  224.470016  224.459167  224.469299  224.473618  224.471802  224.463287   \n",
       "14679  224.470016  224.459167  224.469299  224.473618  224.471802  224.463287   \n",
       "\n",
       "               61          62          63  \n",
       "0      224.450516  224.457916  224.450714  \n",
       "1      224.450516  224.457916  224.450714  \n",
       "2      224.450516  224.457916  224.450714  \n",
       "3      224.450516  224.457916  224.450714  \n",
       "4      224.450516  224.457916  224.450714  \n",
       "...           ...         ...         ...  \n",
       "14675  224.450516  224.457916  224.450714  \n",
       "14676  224.450516  224.457916  224.450714  \n",
       "14677  224.450516  224.457916  224.450714  \n",
       "14678  224.450516  224.457916  224.450714  \n",
       "14679  224.450516  224.457916  224.450714  \n",
       "\n",
       "[14680 rows x 64 columns]"
      ]
     },
     "execution_count": 22,
     "metadata": {},
     "output_type": "execute_result"
    }
   ],
   "source": [
    "features_val_df"
   ]
  },
  {
   "cell_type": "markdown",
   "metadata": {},
   "source": [
    "## PCA"
   ]
  },
  {
   "cell_type": "code",
   "execution_count": null,
   "metadata": {
    "execution": {
     "iopub.execute_input": "2024-03-25T04:54:54.839087Z",
     "iopub.status.busy": "2024-03-25T04:54:54.838712Z",
     "iopub.status.idle": "2024-03-25T04:54:54.863955Z",
     "shell.execute_reply": "2024-03-25T04:54:54.862875Z",
     "shell.execute_reply.started": "2024-03-25T04:54:54.839060Z"
    }
   },
   "outputs": [],
   "source": [
    "from sklearn.decomposition import PCA\n",
    "\n",
    "pca = PCA(n_components=20)\n",
    "pca.fit(features_train_df)\n",
    "print(pca.explained_variance_ratio_)\n",
    "print(pca.singular_values_)"
   ]
  },
  {
   "cell_type": "code",
   "execution_count": null,
   "metadata": {
    "execution": {
     "iopub.execute_input": "2024-03-25T04:54:57.318502Z",
     "iopub.status.busy": "2024-03-25T04:54:57.318026Z",
     "iopub.status.idle": "2024-03-25T04:54:57.325595Z",
     "shell.execute_reply": "2024-03-25T04:54:57.324305Z",
     "shell.execute_reply.started": "2024-03-25T04:54:57.318465Z"
    }
   },
   "outputs": [],
   "source": [
    "sum(pca.explained_variance_ratio_)"
   ]
  },
  {
   "cell_type": "code",
   "execution_count": null,
   "metadata": {
    "execution": {
     "iopub.execute_input": "2024-03-25T04:54:59.617266Z",
     "iopub.status.busy": "2024-03-25T04:54:59.616925Z",
     "iopub.status.idle": "2024-03-25T04:54:59.629309Z",
     "shell.execute_reply": "2024-03-25T04:54:59.628256Z",
     "shell.execute_reply.started": "2024-03-25T04:54:59.617240Z"
    }
   },
   "outputs": [],
   "source": [
    "features_train_df = pca.transform(features_train_df)\n",
    "features_train_df = pd.DataFrame(features_train_df, columns=['PC{}'.format(i) for i in range(1, 21)])"
   ]
  },
  {
   "cell_type": "code",
   "execution_count": null,
   "metadata": {
    "execution": {
     "iopub.execute_input": "2024-03-25T04:55:14.394457Z",
     "iopub.status.busy": "2024-03-25T04:55:14.394071Z",
     "iopub.status.idle": "2024-03-25T04:55:14.406493Z",
     "shell.execute_reply": "2024-03-25T04:55:14.405148Z",
     "shell.execute_reply.started": "2024-03-25T04:55:14.394426Z"
    }
   },
   "outputs": [],
   "source": [
    "pca = PCA(n_components=20)\n",
    "pca.fit(features_val_df)\n",
    "print(pca.explained_variance_ratio_)\n",
    "print(pca.singular_values_)"
   ]
  },
  {
   "cell_type": "code",
   "execution_count": null,
   "metadata": {
    "execution": {
     "iopub.execute_input": "2024-03-25T04:55:16.633779Z",
     "iopub.status.busy": "2024-03-25T04:55:16.633419Z",
     "iopub.status.idle": "2024-03-25T04:55:16.640333Z",
     "shell.execute_reply": "2024-03-25T04:55:16.639263Z",
     "shell.execute_reply.started": "2024-03-25T04:55:16.633750Z"
    }
   },
   "outputs": [],
   "source": [
    "sum(pca.explained_variance_ratio_)"
   ]
  },
  {
   "cell_type": "code",
   "execution_count": null,
   "metadata": {
    "execution": {
     "iopub.execute_input": "2024-03-25T04:55:22.833777Z",
     "iopub.status.busy": "2024-03-25T04:55:22.833395Z",
     "iopub.status.idle": "2024-03-25T04:55:22.844205Z",
     "shell.execute_reply": "2024-03-25T04:55:22.842832Z",
     "shell.execute_reply.started": "2024-03-25T04:55:22.833748Z"
    }
   },
   "outputs": [],
   "source": [
    "features_val_df = pca.transform(features_val_df)\n",
    "features_val_df = pd.DataFrame(features_val_df, columns=['PC{}'.format(i) for i in range(1, 21)])"
   ]
  },
  {
   "cell_type": "markdown",
   "metadata": {},
   "source": [
    "## Evaluation"
   ]
  },
  {
   "cell_type": "code",
   "execution_count": 23,
   "metadata": {
    "execution": {
     "iopub.execute_input": "2024-03-25T19:52:32.373986Z",
     "iopub.status.busy": "2024-03-25T19:52:32.373095Z",
     "iopub.status.idle": "2024-03-25T19:52:33.229936Z",
     "shell.execute_reply": "2024-03-25T19:52:33.227496Z",
     "shell.execute_reply.started": "2024-03-25T19:52:32.373946Z"
    }
   },
   "outputs": [
    {
     "name": "stdout",
     "output_type": "stream",
     "text": [
      "Training R^2 Score: -0.0005229565320332696\n",
      "Validation R^2 Score: -0.7353521324632155\n"
     ]
    }
   ],
   "source": [
    "from sklearn.linear_model import LinearRegression\n",
    "\n",
    "regressor = LinearRegression()\n",
    "regressor.fit(features_train_df, train_labels['K'])\n",
    "\n",
    "# Evaluate the model\n",
    "train_score = regressor.score(features_train_df,  train_labels['K'])\n",
    "val_score = regressor.score(features_val_df, val_labels['K'])\n",
    "\n",
    "print(\"Training R^2 Score:\", train_score)\n",
    "print(\"Validation R^2 Score:\", val_score)"
   ]
  },
  {
   "cell_type": "code",
   "execution_count": 24,
   "metadata": {
    "execution": {
     "iopub.execute_input": "2024-03-25T19:52:33.232812Z",
     "iopub.status.busy": "2024-03-25T19:52:33.232203Z",
     "iopub.status.idle": "2024-03-25T19:52:34.800567Z",
     "shell.execute_reply": "2024-03-25T19:52:34.799412Z",
     "shell.execute_reply.started": "2024-03-25T19:52:33.232743Z"
    }
   },
   "outputs": [
    {
     "name": "stdout",
     "output_type": "stream",
     "text": [
      "Shapiro-Wilk Test:\n",
      "Test Statistic: 0.9224059439185159\n",
      "p-value: 4.0923522368247055e-94\n",
      "Null hypothesis (residuals are normally distributed) rejected.\n",
      "\n",
      "Anderson-Darling Test:\n",
      "Test Statistic: 895.5593069596434\n",
      "Critical Values: [0.576 0.656 0.787 0.918 1.092]\n",
      "Null hypothesis (residuals are normally distributed) rejected.\n",
      "\n",
      "Cramer Von Mises Test:\n",
      "Test Statistic: 5259.893069138719\n",
      "p-value: 0\n",
      "Null hypothesis (residuals are normally distributed) rejected.\n",
      "\n",
      "Kolmogorov-Smirnov Test:\n",
      "Test Statistic: 0.5792855800329033\n",
      "p-value: 0.0\n",
      "Null hypothesis (residuals are normally distributed) rejected.\n",
      "\n",
      "Shapiro Francia Test:\n",
      "Test Statistic: 0.9224059439185159\n",
      "p-value: 4.0923522368247055e-94\n",
      "Null hypothesis (residuals are normally distributed) rejected.\n"
     ]
    },
    {
     "data": {
      "image/png": "[encoded data removed]",
      "text/plain": [
       "<Figure size 800x600 with 1 Axes>"
      ]
     },
     "metadata": {},
     "output_type": "display_data"
    },
    {
     "data": {
      "image/png": "[encoded data removed]",
      "text/plain": [
       "<Figure size 1000x500 with 1 Axes>"
      ]
     },
     "metadata": {},
     "output_type": "display_data"
    },
    {
     "data": {
      "image/png": "[encoded data removed]",
      "text/plain": [
       "<Figure size 1000x500 with 1 Axes>"
      ]
     },
     "metadata": {},
     "output_type": "display_data"
    }
   ],
   "source": [
    "train_labels_K = regressor.predict(features_train_df)\n",
    "residuals = train_labels['K'] - train_labels_K\n",
    "\n",
    "mse = mean_squared_error(train_labels['K'], train_labels_K)\n",
    "std_err = np.sqrt(mse / (features_train_df.shape[0] - features_train_df.shape[1] - 1))\n",
    "\n",
    "tests(residuals, std_err)\n",
    "resi(train_labels['K'], train_labels_K)"
   ]
  },
  {
   "cell_type": "code",
   "execution_count": 25,
   "metadata": {
    "execution": {
     "iopub.execute_input": "2024-03-25T19:52:34.802589Z",
     "iopub.status.busy": "2024-03-25T19:52:34.802154Z",
     "iopub.status.idle": "2024-03-25T19:52:35.994876Z",
     "shell.execute_reply": "2024-03-25T19:52:35.993725Z",
     "shell.execute_reply.started": "2024-03-25T19:52:34.802549Z"
    }
   },
   "outputs": [
    {
     "name": "stdout",
     "output_type": "stream",
     "text": [
      "Shapiro-Wilk Test:\n",
      "Test Statistic: 0.5667237026373357\n",
      "p-value: 3.74330040775171e-104\n",
      "Null hypothesis (residuals are normally distributed) rejected.\n",
      "\n",
      "Anderson-Darling Test:\n",
      "Test Statistic: 500.10059128932335\n",
      "Critical Values: [0.576 0.656 0.787 0.918 1.092]\n",
      "Null hypothesis (residuals are normally distributed) rejected.\n",
      "\n",
      "Cramer Von Mises Test:\n",
      "Test Statistic: 1289.3263921939754\n",
      "p-value: 2.655764005377037e-07\n",
      "Null hypothesis (residuals are normally distributed) rejected.\n",
      "\n",
      "Kolmogorov-Smirnov Test:\n",
      "Test Statistic: 0.5665021171442726\n",
      "p-value: 0.0\n",
      "Null hypothesis (residuals are normally distributed) rejected.\n",
      "\n",
      "Shapiro Francia Test:\n",
      "Test Statistic: 0.5667237026373357\n",
      "p-value: 3.74330040775171e-104\n",
      "Null hypothesis (residuals are normally distributed) rejected.\n"
     ]
    },
    {
     "data": {
      "image/png": "[encoded data removed]",
      "text/plain": [
       "<Figure size 800x600 with 1 Axes>"
      ]
     },
     "metadata": {},
     "output_type": "display_data"
    },
    {
     "data": {
      "image/png": "[encoded data removed]",
      "text/plain": [
       "<Figure size 1000x500 with 1 Axes>"
      ]
     },
     "metadata": {},
     "output_type": "display_data"
    },
    {
     "data": {
      "image/png": "[encoded data removed]",
      "text/plain": [
       "<Figure size 1000x500 with 1 Axes>"
      ]
     },
     "metadata": {},
     "output_type": "display_data"
    }
   ],
   "source": [
    "val_labels_K = regressor.predict(features_val_df)\n",
    "residuals = val_labels['K'] - val_labels_K\n",
    "\n",
    "mse = mean_squared_error(val_labels['K'], val_labels_K)\n",
    "std_err = np.sqrt(mse / (features_val_df.shape[0] - features_val_df.shape[1] - 1))\n",
    "\n",
    "tests(residuals, std_err)\n",
    "resi(val_labels['K'], val_labels_K)"
   ]
  }
 ],
 "metadata": {
  "kaggle": {
   "accelerator": "none",
   "dataSources": [
    {
     "datasetId": 3870524,
     "sourceId": 6717774,
     "sourceType": "datasetVersion"
    }
   ],
   "dockerImageVersionId": 30666,
   "isGpuEnabled": false,
   "isInternetEnabled": true,
   "language": "python",
   "sourceType": "notebook"
  },
  "kernelspec": {
   "display_name": "Python 3 (ipykernel)",
   "language": "python",
   "name": "python3"
  },
  "language_info": {
   "codemirror_mode": {
    "name": "ipython",
    "version": 3
   },
   "file_extension": ".py",
   "mimetype": "text/x-python",
   "name": "python",
   "nbconvert_exporter": "python",
   "pygments_lexer": "ipython3",
   "version": "3.10.0"
  }
 },
 "nbformat": 4,
 "nbformat_minor": 4
}
